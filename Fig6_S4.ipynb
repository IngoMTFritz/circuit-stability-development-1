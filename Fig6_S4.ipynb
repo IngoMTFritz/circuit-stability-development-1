{
 "cells": [
  {
   "cell_type": "markdown",
   "metadata": {},
   "source": [
    "Load toolboxes:"
   ]
  },
  {
   "cell_type": "code",
   "execution_count": 1,
   "metadata": {},
   "outputs": [],
   "source": [
    "import helper\n",
    "import plot_settings\n",
    "\n",
    "# import packages\n",
    "import pymaid\n",
    "import navis\n",
    "import pandas as pd \n",
    "import seaborn as sns\n",
    "import numpy as np\n",
    "import matplotlib.pyplot as plt\n",
    "from matplotlib.colors import Normalize\n",
    "from scipy.stats import pearsonr, ttest_ind\n",
    "from scipy.optimize import lsq_linear\n",
    "from sklearn.linear_model import HuberRegressor\n",
    "from sklearn.metrics import r2_score\n",
    "\n",
    "path_plots = 'plots/'\n",
    "\n",
    "# Set matplotlib style\n",
    "plt.rcParams.update(plot_settings.params)"
   ]
  },
  {
   "cell_type": "markdown",
   "metadata": {},
   "source": [
    "### Load the required data from the server:"
   ]
  },
  {
   "cell_type": "code",
   "execution_count": 2,
   "metadata": {},
   "outputs": [
    {
     "name": "stderr",
     "output_type": "stream",
     "text": [
      "INFO  : Global CATMAID instance set. Caching is OFF. (pymaid)\n",
      "INFO  : Global CATMAID instance set. Caching is OFF. (pymaid)\n"
     ]
    },
    {
     "data": {
      "application/vnd.jupyter.widget-view+json": {
       "model_id": "227b1ef8aafb46fd8337bb06a86be414",
       "version_major": 2,
       "version_minor": 0
      },
      "text/plain": [
       "Fetch neurons:   0%|          | 0/55 [00:00<?, ?it/s]"
      ]
     },
     "metadata": {},
     "output_type": "display_data"
    },
    {
     "data": {
      "application/vnd.jupyter.widget-view+json": {
       "model_id": "36887c1ea5504e4db73120c69793dfc3",
       "version_major": 2,
       "version_minor": 0
      },
      "text/plain": [
       "Make nrn:   0%|          | 0/55 [00:00<?, ?it/s]"
      ]
     },
     "metadata": {},
     "output_type": "display_data"
    },
    {
     "data": {
      "application/vnd.jupyter.widget-view+json": {
       "model_id": "e553c5ce73ae4b6b833d9abc90bd302a",
       "version_major": 2,
       "version_minor": 0
      },
      "text/plain": [
       "Fetch neurons:   0%|          | 0/18 [00:00<?, ?it/s]"
      ]
     },
     "metadata": {},
     "output_type": "display_data"
    },
    {
     "data": {
      "application/vnd.jupyter.widget-view+json": {
       "model_id": "891349f068dd44c08975d10b0d294ecd",
       "version_major": 2,
       "version_minor": 0
      },
      "text/plain": [
       "Make nrn:   0%|          | 0/18 [00:00<?, ?it/s]"
      ]
     },
     "metadata": {},
     "output_type": "display_data"
    }
   ],
   "source": [
    "# load the remote instance of pymaid to the server\n",
    "l1em = pymaid.connect_catmaid(server=\"https://l1em.catmaid.virtualflybrain.org/\", api_token=None, max_threads=50, caching=False)    # L1 Larval CNS\n",
    "l3vnc = pymaid.connect_catmaid(server=\"https://l3vnc.catmaid.virtualflybrain.org/\", api_token=None, max_threads=50, caching=False, project_id=2)  # L3 Larval VNC\n",
    "\n",
    "neurons_str = 'Gerhard et al. 2017'\n",
    "\n",
    "# load neurons\n",
    "# l1_neurons = pymaid.get_neurons('annotations:' + neurons_str, remote_instance=l1em)\n",
    "l1_neurons = helper.try_with_retries(pymaid.get_neurons, 5, 'annotations:' + neurons_str, remote_instance=l1em)\n",
    "l1_neurons.set_neuron_attributes(neurons_str, 'annotation')\n",
    "# l3_neurons = pymaid.get_neurons('annotations:' + neurons_str, remote_instance=l3vnc)\n",
    "l3_neurons = helper.try_with_retries(pymaid.get_neurons, 5, 'annotations:' + neurons_str, remote_instance=l3vnc)\n",
    "l3_neurons.set_neuron_attributes(neurons_str, 'annotation')\n",
    "\n",
    "# replace ' ' in all the names with '_' to match the names in the database\n",
    "for neuron in l1_neurons:\n",
    "    neuron.name = '_'.join(neuron.name.replace(' ', '_').split('_')[:2])\n",
    "for neuron in l3_neurons:\n",
    "    neuron.name = '_'.join(neuron.name.replace(' ', '_').split('_')[:2])\n",
    "\n",
    "# filter out neurons without 'a1' or 'a3' in the name\n",
    "for neuron in l1_neurons:\n",
    "    if 'a1' not in neuron.name:\n",
    "        l1_neurons -= neuron\n",
    "for neuron in l3_neurons:\n",
    "    if 'a3' not in neuron.name:\n",
    "        l3_neurons -= neuron"
   ]
  },
  {
   "cell_type": "markdown",
   "metadata": {},
   "source": [
    "Organise the neuron cell types:"
   ]
  },
  {
   "cell_type": "code",
   "execution_count": 3,
   "metadata": {},
   "outputs": [
    {
     "name": "stdout",
     "output_type": "stream",
     "text": [
      "A09l_a1r\n",
      "A09l_a3r\n"
     ]
    }
   ],
   "source": [
    "# Get mdIV (ddaC, v'ada and vdaB) neurons in L1 and L3\n",
    "l1_ddaC_neurons = helper.filter_neurons(l1_neurons, 'ddaC')\n",
    "l1_vada_neurons = helper.filter_neurons(l1_neurons, 'v\\'ada')\n",
    "l1_vdaB_neurons = helper.filter_neurons(l1_neurons, 'vdaB')\n",
    "l3_ddaC_neurons = helper.filter_neurons(l3_neurons, 'ddaC')\n",
    "l3_vada_neurons = helper.filter_neurons(l3_neurons, 'v\\'ada')\n",
    "l3_vdaB_neurons = helper.filter_neurons(l3_neurons, 'vdaB')\n",
    "\n",
    "l1_mdIV_neurons = l1_ddaC_neurons + l1_vada_neurons + l1_vdaB_neurons\n",
    "l3_mdIV_neurons = l3_ddaC_neurons + l3_vada_neurons + l3_vdaB_neurons\n",
    "\n",
    "# Get LNs (A02n, A09a, A09c, A09l, A10a) neurons in L1 and L3\n",
    "l1_A02n_neurons = helper.filter_neurons(l1_neurons, 'A02n')\n",
    "l1_A02m_neurons = helper.filter_neurons(l1_neurons, 'A02m')\n",
    "l1_A09a_neurons = helper.filter_neurons(l1_neurons, 'A09a')\n",
    "l1_A09c_neurons = helper.filter_neurons(l1_neurons, 'A09c')\n",
    "l1_A09l_neurons = helper.filter_neurons(l1_neurons, 'A09l')\n",
    "l1_A10a_neurons = helper.filter_neurons(l1_neurons, 'A10a')\n",
    "\n",
    "l3_A02n_neurons = helper.filter_neurons(l3_neurons, 'A02n')\n",
    "l3_A02m_neurons = helper.filter_neurons(l3_neurons, 'A02m')\n",
    "l3_A09a_neurons = helper.filter_neurons(l3_neurons, 'A09a')\n",
    "l3_A09c_neurons = helper.filter_neurons(l3_neurons, 'A09c')\n",
    "l3_A09l_neurons = helper.filter_neurons(l3_neurons, 'A09l')\n",
    "l3_A10a_neurons = helper.filter_neurons(l3_neurons, 'A10a')\n",
    "\n",
    "l1_LN_neurons = l1_A02n_neurons + l1_A02m_neurons + l1_A09a_neurons + l1_A09c_neurons + l1_A09l_neurons + l1_A10a_neurons\n",
    "l3_LN_neurons = l3_A02n_neurons + l3_A02m_neurons + l3_A09a_neurons + l3_A09c_neurons + l3_A09l_neurons + l3_A10a_neurons\n",
    "\n",
    "# sort all the neurons by name (left to right)\n",
    "for neuron in [l1_ddaC_neurons, l1_vada_neurons, l1_vdaB_neurons, l3_ddaC_neurons, l3_vada_neurons, l3_vdaB_neurons,    # mdIVs\n",
    "                l1_A02n_neurons, l1_A09a_neurons, l1_A09c_neurons, l1_A09l_neurons, l1_A10a_neurons, l3_A02n_neurons, l3_A09a_neurons, l3_A09c_neurons, l3_A09l_neurons, l3_A10a_neurons, # LNs\n",
    "                l1_mdIV_neurons, l3_mdIV_neurons, l1_LN_neurons, l3_LN_neurons,\n",
    "                ]:\n",
    "    neuron.sort_values(key='name', ascending=True)\n",
    "\n",
    "# create color dictionary for the neurons\n",
    "for source_name in l1_mdIV_neurons.name:\n",
    "    plot_settings.neuron_dict[source_name] = plot_settings.neuron_dict[source_name.split('_')[0]]\n",
    "for target_name in l1_LN_neurons.name:\n",
    "    plot_settings.neuron_dict[target_name] = plot_settings.neuron_dict[target_name.split('_')[0]]\n",
    "# create color dictionary for the neurons\n",
    "for source_name in l3_mdIV_neurons.name:\n",
    "    plot_settings.neuron_dict[source_name] = plot_settings.neuron_dict[source_name.split('_')[0]]\n",
    "for target_name in l3_LN_neurons.name:\n",
    "    plot_settings.neuron_dict[target_name] = plot_settings.neuron_dict[target_name.split('_')[0]]\n",
    "\n",
    "# Select one LN for the visualization\n",
    "l1_selected = l1_LN_neurons[9]\n",
    "print(l1_selected.name)\n",
    "l3_selected = l3_LN_neurons[9]\n",
    "print(l3_selected.name)"
   ]
  },
  {
   "cell_type": "code",
   "execution_count": 4,
   "metadata": {},
   "outputs": [
    {
     "data": {
      "application/vnd.jupyter.widget-view+json": {
       "model_id": "5bd54c89cdb54980ba92dcd328d0595f",
       "version_major": 2,
       "version_minor": 0
      },
      "text/plain": [
       "Splitting:   0%|          | 0/12 [00:00<?, ?it/s]"
      ]
     },
     "metadata": {},
     "output_type": "display_data"
    },
    {
     "data": {
      "application/vnd.jupyter.widget-view+json": {
       "model_id": "d8a9c4f236024dd8b8d49d3e2d96a7be",
       "version_major": 2,
       "version_minor": 0
      },
      "text/plain": [
       "Splitting:   0%|          | 0/12 [00:00<?, ?it/s]"
      ]
     },
     "metadata": {},
     "output_type": "display_data"
    },
    {
     "data": {
      "application/vnd.jupyter.widget-view+json": {
       "model_id": "22cc515e0f44478a9be293199daf341a",
       "version_major": 2,
       "version_minor": 0
      },
      "text/plain": [
       "Splitting:   0%|          | 0/6 [00:00<?, ?it/s]"
      ]
     },
     "metadata": {},
     "output_type": "display_data"
    },
    {
     "data": {
      "application/vnd.jupyter.widget-view+json": {
       "model_id": "72072b2a64cd4a8da92cf98fd297f05a",
       "version_major": 2,
       "version_minor": 0
      },
      "text/plain": [
       "Splitting:   0%|          | 0/6 [00:00<?, ?it/s]"
      ]
     },
     "metadata": {},
     "output_type": "display_data"
    }
   ],
   "source": [
    "###########################################################\n",
    "# Actual synapses\n",
    "# l1_actual_syn = pymaid.get_connectors_between(l1_mdIV_neurons, l1_LN_neurons, remote_instance=l1em)\n",
    "l1_actual_syn = helper.try_with_retries(pymaid.get_connectors_between, 5, l1_mdIV_neurons, l1_LN_neurons, remote_instance=l1em)\n",
    "# l3_actual_syn = pymaid.get_connectors_between(l3_mdIV_neurons, l3_LN_neurons, remote_instance=l3vnc)\n",
    "l3_actual_syn = helper.try_with_retries(pymaid.get_connectors_between, 5, l3_mdIV_neurons, l3_LN_neurons, remote_instance=l3vnc)\n",
    "\n",
    "# add name tags of source and target neurons\n",
    "l1_actual_syn['source_name'] = [l1_mdIV_neurons[l1_mdIV_neurons.skeleton_id == str(id)].name[0] for id in l1_actual_syn.source_neuron]\n",
    "l1_actual_syn['target_name'] = [l1_LN_neurons[l1_LN_neurons.skeleton_id == str(id)].name[0] for id in l1_actual_syn.target_neuron]\n",
    "l3_actual_syn['source_name'] = [l3_mdIV_neurons[l3_mdIV_neurons.skeleton_id == str(id)].name[0] for id in l3_actual_syn.source_neuron]\n",
    "l3_actual_syn['target_name'] = [l3_LN_neurons[l3_LN_neurons.skeleton_id == str(id)].name[0] for id in l3_actual_syn.target_neuron]\n",
    "\n",
    "###########################################################\n",
    "# Adjacency\n",
    "# L1\n",
    "# l1_adjacency = pymaid.adjacency_matrix(l1_mdIV_neurons, l1_LN_neurons, remote_instance=l1em)\n",
    "l1_adjacency = helper.try_with_retries(pymaid.adjacency_matrix, 5, l1_mdIV_neurons, l1_LN_neurons, remote_instance=l1em)\n",
    "l1_adjacency.index = [l1_mdIV_neurons[l1_mdIV_neurons.skeleton_id == str(id)].name[0] for id in l1_adjacency.index]\n",
    "l1_adjacency.columns = [l1_LN_neurons[l1_LN_neurons.skeleton_id == str(id)].name[0] for id in l1_adjacency.columns]\n",
    "# L3\n",
    "# l3_adjacency = pymaid.adjacency_matrix(l3_mdIV_neurons, l3_LN_neurons, remote_instance=l3vnc)\n",
    "l3_adjacency = helper.try_with_retries(pymaid.adjacency_matrix, 5, l3_mdIV_neurons, l3_LN_neurons, remote_instance=l3vnc)\n",
    "l3_adjacency.index = [l3_mdIV_neurons[l3_mdIV_neurons.skeleton_id == str(id)].name[0] for id in l3_adjacency.index]\n",
    "l3_adjacency.columns = [l3_LN_neurons[l3_LN_neurons.skeleton_id == str(id)].name[0] for id in l3_adjacency.columns]\n",
    "\n",
    "###############################################################\n",
    "# Adjacency normalized by the number of postsynapses\n",
    "# Create table for each LN neuron with the total amount of presynapses and postsynapses\n",
    "l1_LN_all_syn = pd.DataFrame({'name': l1_LN_neurons.name, 'presynapses': [len(neuron.presynapses) for neuron in l1_LN_neurons], 'postsynapses': [len(neuron.postsynapses) for neuron in l1_LN_neurons]})\n",
    "l3_LN_all_syn = pd.DataFrame({'name': l3_LN_neurons.name, 'presynapses': [len(neuron.presynapses) for neuron in l3_LN_neurons], 'postsynapses': [len(neuron.postsynapses) for neuron in l3_LN_neurons]})\n",
    "\n",
    "# cut of the names at the second underscore\n",
    "l1_LN_all_syn['name'] = ['_'.join(name.split('_')[:2]) for name in l1_LN_all_syn['name']]\n",
    "l3_LN_all_syn['name'] = ['_'.join(name.split('_')[:2]) for name in l3_LN_all_syn['name']]\n",
    "# set the names as index\n",
    "l1_LN_all_syn = l1_LN_all_syn.set_index('name')\n",
    "l3_LN_all_syn = l3_LN_all_syn.set_index('name')\n",
    "\n",
    "l1_adjacency_norm = l1_adjacency / l1_LN_all_syn.postsynapses\n",
    "l3_adjacency_norm = l3_adjacency / l3_LN_all_syn.postsynapses\n",
    "\n",
    "###########################################################\n",
    "# Splitted neurons\n",
    "# l1_split_all = navis.morpho.split_axon_dendrite(l1_LN_neurons, reroot_soma=True, cellbodyfiber='soma')\n",
    "l1_split_all = helper.try_with_retries(navis.morpho.split_axon_dendrite, 5, l1_LN_neurons, reroot_soma=True, cellbodyfiber='soma')\n",
    "# l3_split_all = navis.morpho.split_axon_dendrite(l3_LN_neurons, reroot_soma=True, cellbodyfiber='soma')\n",
    "l3_split_all = helper.try_with_retries(navis.morpho.split_axon_dendrite, 5, l3_LN_neurons, reroot_soma=True, cellbodyfiber='soma')\n",
    "\n",
    "l1_LN_axon = l1_split_all[l1_split_all.compartment == 'axon']\n",
    "l1_LN_dendrite = l1_split_all[l1_split_all.compartment == 'dendrite']\n",
    "l1_LN_rest = l1_split_all[(l1_split_all.compartment != 'axon') & (l1_split_all.compartment != 'dendrite')]\n",
    "\n",
    "l3_LN_axon = l3_split_all[l3_split_all.compartment == 'axon']\n",
    "l3_LN_dendrite = l3_split_all[l3_split_all.compartment == 'dendrite']\n",
    "l3_LN_rest = l3_split_all[(l3_split_all.compartment != 'axon') & (l3_split_all.compartment != 'dendrite')]\n",
    "\n",
    "all_neurons_split = l1_split_all + l3_split_all\n",
    "all_neurons_dend = all_neurons_split[all_neurons_split.compartment == 'dendrite']\n",
    "\n",
    "# l1_n_pruned = navis.split_axon_dendrite(l1_mdIV_neurons, metric='bending_flow', split='distance')\n",
    "l1_n_pruned = helper.try_with_retries(navis.split_axon_dendrite, 5, l1_mdIV_neurons, metric='bending_flow', split='distance')\n",
    "l1_n_dend = l1_n_pruned[l1_n_pruned.compartment == 'dendrite']\n",
    "l1_n_axon = l1_n_pruned[l1_n_pruned.compartment == 'axon']\n",
    "\n",
    "# l3_n_pruned = navis.split_axon_dendrite(l3_mdIV_neurons, metric='bending_flow', split='distance')\n",
    "l3_n_pruned = helper.try_with_retries(navis.split_axon_dendrite, 5, l3_mdIV_neurons, metric='bending_flow', split='distance')\n",
    "l3_n_dend = l3_n_pruned[l3_n_pruned.compartment == 'dendrite']\n",
    "l3_n_axon = l3_n_pruned[l3_n_pruned.compartment == 'axon']"
   ]
  },
  {
   "cell_type": "markdown",
   "metadata": {},
   "source": [
    "Resample neuron skeletons and split morphology:"
   ]
  },
  {
   "cell_type": "code",
   "execution_count": 5,
   "metadata": {},
   "outputs": [
    {
     "data": {
      "application/vnd.jupyter.widget-view+json": {
       "model_id": "b892e68e9a9a464397caf472a6aac57a",
       "version_major": 2,
       "version_minor": 0
      },
      "text/plain": [
       "convert_units:   0%|          | 0/12 [00:00<?, ?it/s]"
      ]
     },
     "metadata": {},
     "output_type": "display_data"
    },
    {
     "data": {
      "application/vnd.jupyter.widget-view+json": {
       "model_id": "94d379f2fd594487aa69bd0ec564ccf3",
       "version_major": 2,
       "version_minor": 0
      },
      "text/plain": [
       "resample:   0%|          | 0/12 [00:00<?, ?it/s]"
      ]
     },
     "metadata": {},
     "output_type": "display_data"
    },
    {
     "data": {
      "application/vnd.jupyter.widget-view+json": {
       "model_id": "fe475031c8ff458298d2d2246b00f161",
       "version_major": 2,
       "version_minor": 0
      },
      "text/plain": [
       "convert_units:   0%|          | 0/12 [00:00<?, ?it/s]"
      ]
     },
     "metadata": {},
     "output_type": "display_data"
    },
    {
     "data": {
      "application/vnd.jupyter.widget-view+json": {
       "model_id": "1dde4eb2998c4a238c256c4b830cd982",
       "version_major": 2,
       "version_minor": 0
      },
      "text/plain": [
       "resample:   0%|          | 0/12 [00:00<?, ?it/s]"
      ]
     },
     "metadata": {},
     "output_type": "display_data"
    },
    {
     "data": {
      "application/vnd.jupyter.widget-view+json": {
       "model_id": "dde4b310705d42c18c18b4d1ce2b9e4d",
       "version_major": 2,
       "version_minor": 0
      },
      "text/plain": [
       "Splitting:   0%|          | 0/12 [00:00<?, ?it/s]"
      ]
     },
     "metadata": {},
     "output_type": "display_data"
    },
    {
     "data": {
      "application/vnd.jupyter.widget-view+json": {
       "model_id": "f6419a91dc634531b85ba8c09f081f9b",
       "version_major": 2,
       "version_minor": 0
      },
      "text/plain": [
       "Splitting:   0%|          | 0/12 [00:00<?, ?it/s]"
      ]
     },
     "metadata": {},
     "output_type": "display_data"
    }
   ],
   "source": [
    "rs_res = '0.1 micron'\n",
    "\n",
    "l1_LN_neurons_rs = l1_LN_neurons.copy()\n",
    "l1_LN_neurons_rs = l1_LN_neurons_rs.convert_units('um')\n",
    "l1_LN_neurons_rs = l1_LN_neurons_rs.resample(rs_res)\n",
    "\n",
    "l3_LN_neurons_rs = l3_LN_neurons.copy()\n",
    "l3_LN_neurons_rs = l3_LN_neurons_rs.convert_units('um')\n",
    "l3_LN_neurons_rs = l3_LN_neurons_rs.resample(rs_res)\n",
    "\n",
    "# l1_split_all_rs = navis.morpho.split_axon_dendrite(l1_LN_neurons_rs, reroot_soma=True, cellbodyfiber='soma')\n",
    "l1_split_all_rs = helper.try_with_retries(navis.morpho.split_axon_dendrite, 5, l1_LN_neurons_rs, reroot_soma=True, cellbodyfiber='soma')\n",
    "# l3_split_all_rs = navis.morpho.split_axon_dendrite(l3_LN_neurons_rs, reroot_soma=True, cellbodyfiber='soma')\n",
    "l3_split_all_rs = helper.try_with_retries(navis.morpho.split_axon_dendrite, 5, l3_LN_neurons_rs, reroot_soma=True, cellbodyfiber='soma')\n",
    "\n",
    "l1_LN_dends_rs = l1_split_all_rs[l1_split_all_rs.compartment == 'dendrite']\n",
    "l1_LN_axons_rs = l1_split_all_rs[l1_split_all_rs.compartment == 'axon']\n",
    "l3_LN_dends_rs = l3_split_all_rs[l3_split_all_rs.compartment == 'dendrite']\n",
    "l3_LN_axons_rs = l3_split_all_rs[l3_split_all_rs.compartment == 'axon']"
   ]
  },
  {
   "cell_type": "markdown",
   "metadata": {},
   "source": [
    "Then all mdIVs:"
   ]
  },
  {
   "cell_type": "code",
   "execution_count": 6,
   "metadata": {},
   "outputs": [
    {
     "data": {
      "application/vnd.jupyter.widget-view+json": {
       "model_id": "bdee4594a12f4cd2a086c3064b925e41",
       "version_major": 2,
       "version_minor": 0
      },
      "text/plain": [
       "convert_units:   0%|          | 0/6 [00:00<?, ?it/s]"
      ]
     },
     "metadata": {},
     "output_type": "display_data"
    },
    {
     "data": {
      "application/vnd.jupyter.widget-view+json": {
       "model_id": "e52578809e964cfe844dc703bae505e7",
       "version_major": 2,
       "version_minor": 0
      },
      "text/plain": [
       "resample:   0%|          | 0/6 [00:00<?, ?it/s]"
      ]
     },
     "metadata": {},
     "output_type": "display_data"
    },
    {
     "data": {
      "application/vnd.jupyter.widget-view+json": {
       "model_id": "074c4bc40bb546b8988c0c9da35b5fe4",
       "version_major": 2,
       "version_minor": 0
      },
      "text/plain": [
       "convert_units:   0%|          | 0/6 [00:00<?, ?it/s]"
      ]
     },
     "metadata": {},
     "output_type": "display_data"
    },
    {
     "data": {
      "application/vnd.jupyter.widget-view+json": {
       "model_id": "6b14def74bf543adb58ccfbc0cccacc8",
       "version_major": 2,
       "version_minor": 0
      },
      "text/plain": [
       "resample:   0%|          | 0/6 [00:00<?, ?it/s]"
      ]
     },
     "metadata": {},
     "output_type": "display_data"
    }
   ],
   "source": [
    "l1_all_axons_rs = l1_mdIV_neurons.copy()\n",
    "l1_all_axons_rs = l1_all_axons_rs.convert_units('um')\n",
    "l1_all_axons_rs = l1_all_axons_rs.resample(rs_res)\n",
    "\n",
    "l3_all_axons_rs = l3_mdIV_neurons.copy()\n",
    "l3_all_axons_rs = l3_all_axons_rs.convert_units('um')\n",
    "l3_all_axons_rs = l3_all_axons_rs.resample(rs_res)"
   ]
  },
  {
   "cell_type": "code",
   "execution_count": 7,
   "metadata": {},
   "outputs": [
    {
     "data": {
      "application/vnd.jupyter.widget-view+json": {
       "model_id": "21f1bf68f6c544f1a6645c51a1be26dd",
       "version_major": 2,
       "version_minor": 0
      },
      "text/plain": [
       "Calc. overlap:   0%|          | 0/6 [00:00<?, ?it/s]"
      ]
     },
     "metadata": {},
     "output_type": "display_data"
    },
    {
     "data": {
      "application/vnd.jupyter.widget-view+json": {
       "model_id": "43e3c80cc15549279043911ea8515512",
       "version_major": 2,
       "version_minor": 0
      },
      "text/plain": [
       "Calc. overlap:   0%|          | 0/6 [00:00<?, ?it/s]"
      ]
     },
     "metadata": {},
     "output_type": "display_data"
    },
    {
     "data": {
      "application/vnd.jupyter.widget-view+json": {
       "model_id": "285499429d68490f8b9318ff433b4b06",
       "version_major": 2,
       "version_minor": 0
      },
      "text/plain": [
       "Calc. overlap:   0%|          | 0/12 [00:00<?, ?it/s]"
      ]
     },
     "metadata": {},
     "output_type": "display_data"
    },
    {
     "data": {
      "application/vnd.jupyter.widget-view+json": {
       "model_id": "3ac0ba8014154d1b853a62bf61066162",
       "version_major": 2,
       "version_minor": 0
      },
      "text/plain": [
       "Calc. overlap:   0%|          | 0/12 [00:00<?, ?it/s]"
      ]
     },
     "metadata": {},
     "output_type": "display_data"
    },
    {
     "data": {
      "text/html": [
       "<div>\n",
       "<style scoped>\n",
       "    .dataframe tbody tr th:only-of-type {\n",
       "        vertical-align: middle;\n",
       "    }\n",
       "\n",
       "    .dataframe tbody tr th {\n",
       "        vertical-align: top;\n",
       "    }\n",
       "\n",
       "    .dataframe thead th {\n",
       "        text-align: right;\n",
       "    }\n",
       "</style>\n",
       "<table border=\"1\" class=\"dataframe\">\n",
       "  <thead>\n",
       "    <tr style=\"text-align: right;\">\n",
       "      <th></th>\n",
       "      <th>source_name</th>\n",
       "      <th>target_name</th>\n",
       "      <th>skeleton_id</th>\n",
       "      <th>x</th>\n",
       "      <th>y</th>\n",
       "      <th>z</th>\n",
       "      <th>distance</th>\n",
       "      <th>length</th>\n",
       "      <th>target_node_index</th>\n",
       "    </tr>\n",
       "  </thead>\n",
       "  <tbody>\n",
       "    <tr>\n",
       "      <th>55</th>\n",
       "      <td>ddaC_a3l</td>\n",
       "      <td>A02m_a3l</td>\n",
       "      <td>189519</td>\n",
       "      <td>70.239708</td>\n",
       "      <td>58.544201</td>\n",
       "      <td>73.200005</td>\n",
       "      <td>0.233670</td>\n",
       "      <td>0.106880</td>\n",
       "      <td>888013</td>\n",
       "    </tr>\n",
       "    <tr>\n",
       "      <th>56</th>\n",
       "      <td>ddaC_a3l</td>\n",
       "      <td>A02m_a3l</td>\n",
       "      <td>189519</td>\n",
       "      <td>70.257935</td>\n",
       "      <td>58.511166</td>\n",
       "      <td>73.300003</td>\n",
       "      <td>0.330878</td>\n",
       "      <td>0.109913</td>\n",
       "      <td>1938108</td>\n",
       "    </tr>\n",
       "    <tr>\n",
       "      <th>57</th>\n",
       "      <td>ddaC_a3l</td>\n",
       "      <td>A02m_a3l</td>\n",
       "      <td>189519</td>\n",
       "      <td>70.253540</td>\n",
       "      <td>58.401340</td>\n",
       "      <td>73.300003</td>\n",
       "      <td>0.332542</td>\n",
       "      <td>0.106246</td>\n",
       "      <td>1938109</td>\n",
       "    </tr>\n",
       "    <tr>\n",
       "      <th>58</th>\n",
       "      <td>ddaC_a3l</td>\n",
       "      <td>A02m_a3l</td>\n",
       "      <td>189519</td>\n",
       "      <td>70.239342</td>\n",
       "      <td>58.298691</td>\n",
       "      <td>73.323448</td>\n",
       "      <td>0.367002</td>\n",
       "      <td>0.108071</td>\n",
       "      <td>1938110</td>\n",
       "    </tr>\n",
       "    <tr>\n",
       "      <th>59</th>\n",
       "      <td>ddaC_a3l</td>\n",
       "      <td>A02m_a3l</td>\n",
       "      <td>189519</td>\n",
       "      <td>70.231445</td>\n",
       "      <td>58.207020</td>\n",
       "      <td>73.380135</td>\n",
       "      <td>0.450138</td>\n",
       "      <td>0.102714</td>\n",
       "      <td>1938111</td>\n",
       "    </tr>\n",
       "    <tr>\n",
       "      <th>...</th>\n",
       "      <td>...</td>\n",
       "      <td>...</td>\n",
       "      <td>...</td>\n",
       "      <td>...</td>\n",
       "      <td>...</td>\n",
       "      <td>...</td>\n",
       "      <td>...</td>\n",
       "      <td>...</td>\n",
       "      <td>...</td>\n",
       "    </tr>\n",
       "    <tr>\n",
       "      <th>8543</th>\n",
       "      <td>vdaB_a3r</td>\n",
       "      <td>A10a_a3r</td>\n",
       "      <td>1870224</td>\n",
       "      <td>61.851540</td>\n",
       "      <td>60.507050</td>\n",
       "      <td>71.106865</td>\n",
       "      <td>0.419855</td>\n",
       "      <td>0.096861</td>\n",
       "      <td>1939929</td>\n",
       "    </tr>\n",
       "    <tr>\n",
       "      <th>8544</th>\n",
       "      <td>vdaB_a3r</td>\n",
       "      <td>A10a_a3r</td>\n",
       "      <td>1870224</td>\n",
       "      <td>61.842850</td>\n",
       "      <td>60.507935</td>\n",
       "      <td>71.203331</td>\n",
       "      <td>0.341363</td>\n",
       "      <td>0.102755</td>\n",
       "      <td>1939930</td>\n",
       "    </tr>\n",
       "    <tr>\n",
       "      <th>8588</th>\n",
       "      <td>vdaB_a3r</td>\n",
       "      <td>A10a_a3r</td>\n",
       "      <td>1870224</td>\n",
       "      <td>68.599800</td>\n",
       "      <td>61.091400</td>\n",
       "      <td>74.400002</td>\n",
       "      <td>0.366043</td>\n",
       "      <td>0.089176</td>\n",
       "      <td>1927962</td>\n",
       "    </tr>\n",
       "    <tr>\n",
       "      <th>8589</th>\n",
       "      <td>vdaB_a3r</td>\n",
       "      <td>A10a_a3r</td>\n",
       "      <td>1870224</td>\n",
       "      <td>68.541939</td>\n",
       "      <td>61.103725</td>\n",
       "      <td>74.466728</td>\n",
       "      <td>0.432387</td>\n",
       "      <td>0.103118</td>\n",
       "      <td>1939978</td>\n",
       "    </tr>\n",
       "    <tr>\n",
       "      <th>8590</th>\n",
       "      <td>vdaB_a3r</td>\n",
       "      <td>A10a_a3r</td>\n",
       "      <td>1870224</td>\n",
       "      <td>68.551285</td>\n",
       "      <td>61.041073</td>\n",
       "      <td>74.548096</td>\n",
       "      <td>0.484294</td>\n",
       "      <td>0.102495</td>\n",
       "      <td>1939979</td>\n",
       "    </tr>\n",
       "  </tbody>\n",
       "</table>\n",
       "<p>24688 rows × 9 columns</p>\n",
       "</div>"
      ],
      "text/plain": [
       "     source_name target_name skeleton_id          x          y          z  \\\n",
       "55      ddaC_a3l    A02m_a3l      189519  70.239708  58.544201  73.200005   \n",
       "56      ddaC_a3l    A02m_a3l      189519  70.257935  58.511166  73.300003   \n",
       "57      ddaC_a3l    A02m_a3l      189519  70.253540  58.401340  73.300003   \n",
       "58      ddaC_a3l    A02m_a3l      189519  70.239342  58.298691  73.323448   \n",
       "59      ddaC_a3l    A02m_a3l      189519  70.231445  58.207020  73.380135   \n",
       "...          ...         ...         ...        ...        ...        ...   \n",
       "8543    vdaB_a3r    A10a_a3r     1870224  61.851540  60.507050  71.106865   \n",
       "8544    vdaB_a3r    A10a_a3r     1870224  61.842850  60.507935  71.203331   \n",
       "8588    vdaB_a3r    A10a_a3r     1870224  68.599800  61.091400  74.400002   \n",
       "8589    vdaB_a3r    A10a_a3r     1870224  68.541939  61.103725  74.466728   \n",
       "8590    vdaB_a3r    A10a_a3r     1870224  68.551285  61.041073  74.548096   \n",
       "\n",
       "      distance    length  target_node_index  \n",
       "55    0.233670  0.106880             888013  \n",
       "56    0.330878  0.109913            1938108  \n",
       "57    0.332542  0.106246            1938109  \n",
       "58    0.367002  0.108071            1938110  \n",
       "59    0.450138  0.102714            1938111  \n",
       "...        ...       ...                ...  \n",
       "8543  0.419855  0.096861            1939929  \n",
       "8544  0.341363  0.102755            1939930  \n",
       "8588  0.366043  0.089176            1927962  \n",
       "8589  0.432387  0.103118            1939978  \n",
       "8590  0.484294  0.102495            1939979  \n",
       "\n",
       "[24688 rows x 9 columns]"
      ]
     },
     "execution_count": 7,
     "metadata": {},
     "output_type": "execute_result"
    }
   ],
   "source": [
    "overlap_dist = '500 nanometer'\n",
    "\n",
    "# Get overlapping cable within 2 microns\n",
    "l1_overlap_all, l1_overlap_all_loc = helper.get_cable_overlap_and_ids(l1_all_axons_rs, l1_LN_dends_rs, dist=overlap_dist, method='forward')\n",
    "l1_overlap_all = l1_overlap_all.T\n",
    "\n",
    "l3_overlap_all, l3_overlap_all_loc = helper.get_cable_overlap_and_ids(l3_all_axons_rs, l3_LN_dends_rs, dist=overlap_dist, method='forward')\n",
    "l3_overlap_all = l3_overlap_all.T\n",
    "\n",
    "l1_overlap_all.columns = [l1_mdIV_neurons[l1_mdIV_neurons.skeleton_id == str(id)].name[0].split('_')[0] for id in l1_overlap_all.columns]\n",
    "l1_overlap_all.index = [l1_LN_neurons[l1_LN_neurons.skeleton_id == str(id)].name[0].split('_')[0] for id in l1_overlap_all.index]\n",
    "l3_overlap_all.columns = [l3_mdIV_neurons[l3_mdIV_neurons.skeleton_id == str(id)].name[0].split('_')[0] for id in l3_overlap_all.columns]\n",
    "l3_overlap_all.index = [l3_LN_neurons[l3_LN_neurons.skeleton_id == str(id)].name[0].split('_')[0] for id in l3_overlap_all.index]\n",
    "\n",
    "# Compute amount of cable that is in proximity but now using the dendrites themself.\n",
    "# This can be used as maximum to normalize or calculate the ratio of how much they overlap with the axons.\n",
    "l1_overlap_dend, l1_overlap_dend_loc = helper.get_cable_overlap_and_ids(l1_LN_dends_rs, l1_LN_dends_rs, dist=overlap_dist, method='forward')\n",
    "l3_overlap_dend, l3_overlap_dend_loc = helper.get_cable_overlap_and_ids(l3_LN_dends_rs, l3_LN_dends_rs, dist=overlap_dist, method='forward')\n",
    "\n",
    "l1_overlap_dend.index = [l1_LN_neurons[l1_LN_neurons.skeleton_id == str(id)].name[0].split('_')[0] for id in l1_overlap_dend.index]\n",
    "l1_overlap_dend.columns = [l1_LN_neurons[l1_LN_neurons.skeleton_id == str(id)].name[0].split('_')[0] for id in l1_overlap_dend.columns]\n",
    "l3_overlap_dend.index = [l3_LN_neurons[l3_LN_neurons.skeleton_id == str(id)].name[0].split('_')[0] for id in l3_overlap_dend.index]\n",
    "l3_overlap_dend.columns = [l3_LN_neurons[l3_LN_neurons.skeleton_id == str(id)].name[0].split('_')[0] for id in l3_overlap_dend.columns]\n",
    "\n",
    "l3_overlap_all_loc"
   ]
  },
  {
   "cell_type": "code",
   "execution_count": 8,
   "metadata": {},
   "outputs": [
    {
     "data": {
      "text/html": [
       "<div>\n",
       "<style scoped>\n",
       "    .dataframe tbody tr th:only-of-type {\n",
       "        vertical-align: middle;\n",
       "    }\n",
       "\n",
       "    .dataframe tbody tr th {\n",
       "        vertical-align: top;\n",
       "    }\n",
       "\n",
       "    .dataframe thead th {\n",
       "        text-align: right;\n",
       "    }\n",
       "</style>\n",
       "<table border=\"1\" class=\"dataframe\">\n",
       "  <thead>\n",
       "    <tr style=\"text-align: right;\">\n",
       "      <th></th>\n",
       "      <th>connector_id</th>\n",
       "      <th>node_id</th>\n",
       "      <th>type</th>\n",
       "      <th>x</th>\n",
       "      <th>y</th>\n",
       "      <th>z</th>\n",
       "      <th>neuron</th>\n",
       "      <th>target_name</th>\n",
       "      <th>source_name</th>\n",
       "    </tr>\n",
       "  </thead>\n",
       "  <tbody>\n",
       "    <tr>\n",
       "      <th>13</th>\n",
       "      <td>3603998</td>\n",
       "      <td>16385932</td>\n",
       "      <td>1</td>\n",
       "      <td>57.965202</td>\n",
       "      <td>88.790802</td>\n",
       "      <td>121.900009</td>\n",
       "      <td>4778439</td>\n",
       "      <td>A02m_a1l</td>\n",
       "      <td>ddaC_a1l</td>\n",
       "    </tr>\n",
       "    <tr>\n",
       "      <th>15</th>\n",
       "      <td>3780924</td>\n",
       "      <td>14813117</td>\n",
       "      <td>1</td>\n",
       "      <td>58.888603</td>\n",
       "      <td>89.210709</td>\n",
       "      <td>123.250008</td>\n",
       "      <td>4778439</td>\n",
       "      <td>A02m_a1l</td>\n",
       "      <td>vdaB_a1l</td>\n",
       "    </tr>\n",
       "    <tr>\n",
       "      <th>29</th>\n",
       "      <td>6223121</td>\n",
       "      <td>16385860</td>\n",
       "      <td>1</td>\n",
       "      <td>58.890503</td>\n",
       "      <td>89.003609</td>\n",
       "      <td>122.750008</td>\n",
       "      <td>4778439</td>\n",
       "      <td>A02m_a1l</td>\n",
       "      <td>v'ada_a1l</td>\n",
       "    </tr>\n",
       "    <tr>\n",
       "      <th>30</th>\n",
       "      <td>6914736</td>\n",
       "      <td>16385830</td>\n",
       "      <td>1</td>\n",
       "      <td>55.510403</td>\n",
       "      <td>86.864204</td>\n",
       "      <td>122.350006</td>\n",
       "      <td>4778439</td>\n",
       "      <td>A02m_a1l</td>\n",
       "      <td>ddaC_a1l</td>\n",
       "    </tr>\n",
       "    <tr>\n",
       "      <th>32</th>\n",
       "      <td>7132861</td>\n",
       "      <td>7132859</td>\n",
       "      <td>1</td>\n",
       "      <td>56.192501</td>\n",
       "      <td>87.084602</td>\n",
       "      <td>122.700005</td>\n",
       "      <td>4778439</td>\n",
       "      <td>A02m_a1l</td>\n",
       "      <td>ddaC_a1l</td>\n",
       "    </tr>\n",
       "    <tr>\n",
       "      <th>...</th>\n",
       "      <td>...</td>\n",
       "      <td>...</td>\n",
       "      <td>...</td>\n",
       "      <td>...</td>\n",
       "      <td>...</td>\n",
       "      <td>...</td>\n",
       "      <td>...</td>\n",
       "      <td>...</td>\n",
       "      <td>...</td>\n",
       "    </tr>\n",
       "    <tr>\n",
       "      <th>1799</th>\n",
       "      <td>14813147</td>\n",
       "      <td>14873068</td>\n",
       "      <td>1</td>\n",
       "      <td>58.356606</td>\n",
       "      <td>89.733208</td>\n",
       "      <td>122.250008</td>\n",
       "      <td>5690362</td>\n",
       "      <td>A10a_a1r</td>\n",
       "      <td>vdaB_a1l</td>\n",
       "    </tr>\n",
       "    <tr>\n",
       "      <th>1800</th>\n",
       "      <td>9782146</td>\n",
       "      <td>14816152</td>\n",
       "      <td>1</td>\n",
       "      <td>56.886002</td>\n",
       "      <td>88.948502</td>\n",
       "      <td>124.100006</td>\n",
       "      <td>5690362</td>\n",
       "      <td>A10a_a1r</td>\n",
       "      <td>vdaB_a1r</td>\n",
       "    </tr>\n",
       "    <tr>\n",
       "      <th>1802</th>\n",
       "      <td>13920981</td>\n",
       "      <td>18527773</td>\n",
       "      <td>1</td>\n",
       "      <td>57.592804</td>\n",
       "      <td>89.628708</td>\n",
       "      <td>122.600006</td>\n",
       "      <td>5690362</td>\n",
       "      <td>A10a_a1r</td>\n",
       "      <td>vdaB_a1r</td>\n",
       "    </tr>\n",
       "    <tr>\n",
       "      <th>1806</th>\n",
       "      <td>16227277</td>\n",
       "      <td>14873126</td>\n",
       "      <td>1</td>\n",
       "      <td>57.703003</td>\n",
       "      <td>89.649605</td>\n",
       "      <td>122.800003</td>\n",
       "      <td>5690362</td>\n",
       "      <td>A10a_a1r</td>\n",
       "      <td>vdaB_a1r</td>\n",
       "    </tr>\n",
       "    <tr>\n",
       "      <th>1809</th>\n",
       "      <td>8670301</td>\n",
       "      <td>4079397</td>\n",
       "      <td>1</td>\n",
       "      <td>56.158302</td>\n",
       "      <td>88.703400</td>\n",
       "      <td>121.800003</td>\n",
       "      <td>5690362</td>\n",
       "      <td>A10a_a1r</td>\n",
       "      <td>v'ada_a1l</td>\n",
       "    </tr>\n",
       "  </tbody>\n",
       "</table>\n",
       "<p>317 rows × 9 columns</p>\n",
       "</div>"
      ],
      "text/plain": [
       "      connector_id   node_id type          x          y           z   neuron  \\\n",
       "13         3603998  16385932    1  57.965202  88.790802  121.900009  4778439   \n",
       "15         3780924  14813117    1  58.888603  89.210709  123.250008  4778439   \n",
       "29         6223121  16385860    1  58.890503  89.003609  122.750008  4778439   \n",
       "30         6914736  16385830    1  55.510403  86.864204  122.350006  4778439   \n",
       "32         7132861   7132859    1  56.192501  87.084602  122.700005  4778439   \n",
       "...            ...       ...  ...        ...        ...         ...      ...   \n",
       "1799      14813147  14873068    1  58.356606  89.733208  122.250008  5690362   \n",
       "1800       9782146  14816152    1  56.886002  88.948502  124.100006  5690362   \n",
       "1802      13920981  18527773    1  57.592804  89.628708  122.600006  5690362   \n",
       "1806      16227277  14873126    1  57.703003  89.649605  122.800003  5690362   \n",
       "1809       8670301   4079397    1  56.158302  88.703400  121.800003  5690362   \n",
       "\n",
       "     target_name source_name  \n",
       "13      A02m_a1l    ddaC_a1l  \n",
       "15      A02m_a1l    vdaB_a1l  \n",
       "29      A02m_a1l   v'ada_a1l  \n",
       "30      A02m_a1l    ddaC_a1l  \n",
       "32      A02m_a1l    ddaC_a1l  \n",
       "...          ...         ...  \n",
       "1799    A10a_a1r    vdaB_a1l  \n",
       "1800    A10a_a1r    vdaB_a1r  \n",
       "1802    A10a_a1r    vdaB_a1r  \n",
       "1806    A10a_a1r    vdaB_a1r  \n",
       "1809    A10a_a1r   v'ada_a1l  \n",
       "\n",
       "[317 rows x 9 columns]"
      ]
     },
     "execution_count": 8,
     "metadata": {},
     "output_type": "execute_result"
    }
   ],
   "source": [
    "l1_overlap_selected_loc = l1_overlap_all_loc[l1_overlap_all_loc.target_name == l1_selected.name].copy()\n",
    "l3_overlap_selected_loc = l3_overlap_all_loc[l3_overlap_all_loc.target_name == l3_selected.name].copy()\n",
    "\n",
    "l1_selected_overlap = l1_LN_neurons_rs[l1_LN_neurons_rs.name == l1_selected.name]\n",
    "l3_selected_overlap = l3_LN_neurons_rs[l3_LN_neurons_rs.name == l3_selected.name]\n",
    "\n",
    "l1_overlap_selected_loc['color'] = l1_overlap_selected_loc['source_name'].map(plot_settings.neuron_color_dict)\n",
    "l3_overlap_selected_loc['color'] = l3_overlap_selected_loc['source_name'].map(plot_settings.neuron_color_dict)\n",
    "\n",
    "l1_actual_syn_connectors = l1_LN_dends_rs.connectors.loc[np.isin(l1_LN_dends_rs.connectors.connector_id, l1_actual_syn.connector_id)]\n",
    "l3_actual_syn_connectors = l3_LN_dends_rs.connectors.loc[np.isin(l3_LN_dends_rs.connectors.connector_id, l3_actual_syn.connector_id)]\n",
    "l1_actual_syn_connectors['target_name'] = [l1_LN_dends_rs[l1_LN_dends_rs.skeleton_id == str(id)].name[0] for id in l1_actual_syn_connectors.neuron]\n",
    "l3_actual_syn_connectors['target_name'] = [l3_LN_dends_rs[l3_LN_dends_rs.skeleton_id == str(id)].name[0] for id in l3_actual_syn_connectors.neuron]\n",
    "l1_actual_syn_connectors['source_name'] = [l1_actual_syn[l1_actual_syn.connector_id == id].source_name.values[0] for id in l1_actual_syn_connectors.connector_id]\n",
    "l3_actual_syn_connectors['source_name'] = [l3_actual_syn[l3_actual_syn.connector_id == id].source_name.values[0] for id in l3_actual_syn_connectors.connector_id]\n",
    "l1_actual_syn_connectors"
   ]
  },
  {
   "cell_type": "code",
   "execution_count": 9,
   "metadata": {},
   "outputs": [],
   "source": [
    "only_mdIVs_flag = True\n",
    "each_mdIV_flag = True"
   ]
  },
  {
   "cell_type": "code",
   "execution_count": 10,
   "metadata": {},
   "outputs": [
    {
     "name": "stdout",
     "output_type": "stream",
     "text": [
      "A02m_a1l\n",
      "A02m_a1r\n",
      "A02n_a1l\n",
      "A02n_a1r\n",
      "A09a_a1l\n",
      "A09a_a1r\n",
      "A09c_a1l\n",
      "A09c_a1r\n",
      "A09l_a1l\n",
      "A09l_a1r\n",
      "A10a_a1l\n",
      "A10a_a1r\n",
      "A02m_a3l\n",
      "A02m_a3r\n",
      "A02n_a3l\n",
      "A02n_a3r\n",
      "A09a_a3l\n",
      "A09a_a3r\n",
      "A09c_a3l\n",
      "A09c_a3r\n",
      "A09l_a3l\n",
      "A09l_a3r\n",
      "A10a_a3l\n",
      "A10a_a3r\n"
     ]
    }
   ],
   "source": [
    "gauss_bandwidth = 1 # um\n",
    "\n",
    "l1_neuron_overlap_list = {}\n",
    "# For each node, add entries of which pre-neurons do overlap and the rank (ranging from 0, no overlap, to 6 all pre-neurons overlap)\n",
    "for neuron in l1_LN_dends_rs:\n",
    "    print(neuron.name)\n",
    "    n_nodes = neuron.nodes.copy()\n",
    "\n",
    "    # get full geodesic matrix between all the nodes of the selected neuron\n",
    "    # (so that later we just use the rows and columns corresponding to the selected nodes of the actual or potential synapses we want to cluster)\n",
    "    # geodesic_mat_full = navis.geodesic_matrix(neuron, weight='weight')\n",
    "    geodesic_mat_full = helper.try_with_retries(navis.geodesic_matrix, 5, neuron, weight='weight')\n",
    "\n",
    "    geodesic_gauss_weigthed_mat = np.exp(-geodesic_mat_full ** 2 / (2 * gauss_bandwidth ** 2))\n",
    "\n",
    "    if only_mdIVs_flag == True:\n",
    "        id_values = l1_actual_syn_connectors[l1_actual_syn_connectors.connector_id.isin(l1_actual_syn.connector_id)][l1_actual_syn_connectors.target_name == neuron.name].node_id.values\n",
    "    else:\n",
    "        id_values = l1_actual_syn_connectors[l1_actual_syn_connectors.target_name == neuron.name].node_id.values # all pre\n",
    "\n",
    "    geodesic_syn_count_mat = geodesic_gauss_weigthed_mat.copy()\n",
    "    geodesic_syn_count_mat.values[:] = 0\n",
    "    for id in id_values:\n",
    "        geodesic_syn_count_mat[id] += 1\n",
    "\n",
    "    geodesic_density_mat = geodesic_gauss_weigthed_mat * geodesic_syn_count_mat\n",
    "    n_nodes['synapse_density'] = geodesic_density_mat.sum(axis=1).values / gauss_bandwidth\n",
    "\n",
    "    pre_overlaps = []\n",
    "    rank_overlap = []\n",
    "    node_length = []\n",
    "    # get all nodes that overlap with a pre-neuron\n",
    "    nodes_overlapping = l1_overlap_all_loc[l1_overlap_all_loc.target_name == neuron.name]\n",
    "    for node in n_nodes.node_id:\n",
    "        if node in nodes_overlapping.target_node_index.values:\n",
    "            pre_names_OL = nodes_overlapping[nodes_overlapping.target_node_index.values == node].source_name.values\n",
    "            pre_overlaps.append(pre_names_OL)\n",
    "            rank_overlap.append(len(pre_names_OL))\n",
    "            node_length.append(nodes_overlapping[nodes_overlapping.target_node_index.values == node].length.values[0])\n",
    "        else:\n",
    "            pre_overlaps.append(np.nan)\n",
    "            rank_overlap.append(0)\n",
    "            node_length.append(np.nan)\n",
    "\n",
    "    n_nodes['pre_overlaps'] = pre_overlaps\n",
    "    n_nodes['overlap_rank'] = rank_overlap\n",
    "    n_nodes['node_length'] = node_length\n",
    "\n",
    "    n_nodes['x'] = n_nodes['x']*1000\n",
    "    n_nodes['y'] = n_nodes['y']*1000\n",
    "    n_nodes['z'] = n_nodes['z']*1000\n",
    "\n",
    "    l1_neuron_overlap_list[neuron.name] = n_nodes\n",
    "\n",
    "l3_neuron_overlap_list = {}\n",
    "# For each node, add entries of which pre-neurons do overlap and the rank (ranging from 0, no overlap, to 6 all pre-neurons overlap)\n",
    "for neuron in l3_LN_dends_rs:\n",
    "    print(neuron.name)\n",
    "    n_nodes = neuron.nodes.copy()\n",
    "\n",
    "    # get full geodesic matrix between all the nodes of the selected neuron\n",
    "    # (so that later we just use the rows and columns corresponding to the selected nodes of the actual or potential synapses we want to cluster)\n",
    "    # geodesic_mat_full = navis.geodesic_matrix(neuron, weight='weight')\n",
    "    geodesic_mat_full = helper.try_with_retries(navis.geodesic_matrix, 5, neuron, weight='weight')\n",
    "\n",
    "    geodesic_gauss_weigthed_mat = np.exp(-geodesic_mat_full ** 2 / (2 * gauss_bandwidth ** 2))\n",
    "\n",
    "    if only_mdIVs_flag == True:\n",
    "        id_values = l3_actual_syn_connectors[l3_actual_syn_connectors.connector_id.isin(l3_actual_syn.connector_id)][l3_actual_syn_connectors.target_name == neuron.name].node_id.values\n",
    "    else:\n",
    "        id_values = l3_actual_syn_connectors[l3_actual_syn_connectors.target_name == neuron.name].node_id.values\n",
    "\n",
    "    geodesic_syn_count_mat = geodesic_gauss_weigthed_mat.copy()\n",
    "    geodesic_syn_count_mat.values[:] = 0\n",
    "    for id in id_values:\n",
    "        geodesic_syn_count_mat[id] += 1\n",
    "\n",
    "    geodesic_density_mat = geodesic_gauss_weigthed_mat * geodesic_syn_count_mat\n",
    "    n_nodes['synapse_density'] = geodesic_density_mat.sum(axis=1).values / gauss_bandwidth\n",
    "\n",
    "    pre_overlaps = []\n",
    "    rank_overlap = []\n",
    "    node_length = []\n",
    "    # get all nodes that overlap with a pre-neuron\n",
    "    nodes_overlapping = l3_overlap_all_loc[l3_overlap_all_loc.target_name == neuron.name]\n",
    "    for node in n_nodes.node_id:\n",
    "        if node in nodes_overlapping.target_node_index.values:\n",
    "            pre_names_OL = nodes_overlapping[nodes_overlapping.target_node_index.values == node].source_name.values\n",
    "            pre_overlaps.append(pre_names_OL)\n",
    "            rank_overlap.append(len(pre_names_OL))\n",
    "            node_length.append(nodes_overlapping[nodes_overlapping.target_node_index.values == node].length.values[0])\n",
    "        else:\n",
    "            pre_overlaps.append(np.nan)\n",
    "            rank_overlap.append(0)\n",
    "            node_length.append(np.nan)\n",
    "\n",
    "    n_nodes['pre_overlaps'] = pre_overlaps\n",
    "    n_nodes['overlap_rank'] = rank_overlap\n",
    "    n_nodes['node_length'] = node_length\n",
    "\n",
    "    n_nodes['x'] = n_nodes['x']*1000\n",
    "    n_nodes['y'] = n_nodes['y']*1000\n",
    "    n_nodes['z'] = n_nodes['z']*1000\n",
    "\n",
    "    l3_neuron_overlap_list[neuron.name] = n_nodes"
   ]
  },
  {
   "cell_type": "code",
   "execution_count": 11,
   "metadata": {},
   "outputs": [],
   "source": [
    "ranks = [1,2,3,4,5,6]\n",
    "\n",
    "l1_overlap_density_all = pd.DataFrame(np.zeros((l1_all_axons_rs.name.shape[0], l1_LN_dends_rs.name.shape[0])),\n",
    "                        index=l1_all_axons_rs.name, columns=l1_LN_dends_rs.name)\n",
    "l1_overlap_density_LN = pd.DataFrame(np.zeros((1,l1_LN_dends_rs.name.shape[0])), columns=l1_LN_dends_rs.name)\n",
    "l1_rank_density = pd.DataFrame(np.zeros((len(ranks), l1_LN_dends_rs.name.shape[0])),\n",
    "                        index=ranks, columns=l1_LN_dends_rs.name)\n",
    "l1_rank_overlap = pd.DataFrame(np.zeros((len(ranks), l1_LN_dends_rs.name.shape[0])),\n",
    "                        index=ranks, columns=l1_LN_dends_rs.name)\n",
    "l1_rank_node_density = pd.DataFrame([[[] for _ in range(len(l1_LN_dends_rs.name))] for _ in range(len(ranks))],\n",
    "                               index=ranks, columns=l1_LN_dends_rs.name)\n",
    "for post, neuron_overlaps in l1_neuron_overlap_list.items():\n",
    "    \n",
    "    if only_mdIVs_flag == True:\n",
    "        actual_syn_nodes = l1_actual_syn_connectors[l1_actual_syn_connectors.connector_id.isin(l1_actual_syn.connector_id)][l1_actual_syn_connectors.target_name == post].node_id   # pre does not matter for density\n",
    "    else:\n",
    "        actual_syn_nodes = l1_actual_syn_connectors[l1_actual_syn_connectors.target_name == post].node_id   # pre does not matter for density\n",
    "\n",
    "    common_nodes = set(neuron_overlaps[neuron_overlaps.overlap_rank>0].node_id).intersection(set(actual_syn_nodes))\n",
    "    non_common_nodes = set(neuron_overlaps[neuron_overlaps.overlap_rank==0].node_id).intersection(set(actual_syn_nodes))\n",
    "    l1_overlap_density_LN.loc[0,post] = len(common_nodes) / neuron_overlaps[neuron_overlaps.overlap_rank>0].node_length.sum()\n",
    "\n",
    "    for pre in l1_all_axons_rs:\n",
    "        if each_mdIV_flag == True and only_mdIVs_flag == True:\n",
    "            actual_syn_nodes = l1_actual_syn_connectors[\n",
    "                (l1_actual_syn_connectors.target_name == post) & \n",
    "                (l1_actual_syn_connectors.source_name == pre.name)\n",
    "            ].node_id\n",
    "        neuron_overlaps.pre_overlaps = neuron_overlaps.pre_overlaps.astype(str)\n",
    "        nodes_overlapping = neuron_overlaps[neuron_overlaps.pre_overlaps.str.contains(pre.name)]\n",
    "        \n",
    "        # count all the synapses that are at those nodes and divide by the length of the overlap\n",
    "        common_nodes = set(nodes_overlapping.node_id).intersection(set(actual_syn_nodes))\n",
    "        overlap_length = nodes_overlapping.node_length.values.sum()\n",
    "        \n",
    "        if overlap_length == 0:\n",
    "            syn_density_overlap = 0\n",
    "        else:\n",
    "            if each_mdIV_flag == True and only_mdIVs_flag == True:\n",
    "                syn_density_overlap = len(actual_syn_nodes) / overlap_length\n",
    "            else:\n",
    "                syn_density_overlap = len(common_nodes) / overlap_length\n",
    "        l1_overlap_density_all.loc[pre.name, post] = syn_density_overlap\n",
    "\n",
    "    for rank in ranks:\n",
    "        nodes_rank = neuron_overlaps[neuron_overlaps.overlap_rank == rank]\n",
    "        common_nodes = set(nodes_rank.node_id).intersection(set(actual_syn_nodes))\n",
    "        overlap_length = nodes_rank.node_length.values.sum()\n",
    "        l1_rank_overlap.loc[rank, post] = overlap_length\n",
    "        if overlap_length == 0:\n",
    "            syn_density_overlap = 0\n",
    "        else:\n",
    "            syn_density_overlap = len(common_nodes) / overlap_length\n",
    "\n",
    "        l1_rank_density.loc[rank, post] = syn_density_overlap\n",
    "        l1_rank_node_density.loc[rank, post] = nodes_rank.synapse_density.values\n",
    "\n",
    "l3_overlap_density_all = pd.DataFrame(np.zeros((l3_all_axons_rs.name.shape[0], l3_LN_dends_rs.name.shape[0])),\n",
    "                        index=l3_all_axons_rs.name, columns=l3_LN_dends_rs.name)\n",
    "l3_rank_density = pd.DataFrame(np.zeros((len(ranks), l3_LN_dends_rs.name.shape[0])),\n",
    "                        index=ranks, columns=l3_LN_dends_rs.name)\n",
    "l3_overlap_density_LN = pd.DataFrame(np.zeros((1,l3_LN_dends_rs.name.shape[0])), columns=l3_LN_dends_rs.name)\n",
    "l3_rank_overlap = pd.DataFrame(np.zeros((len(ranks), l3_LN_dends_rs.name.shape[0])),\n",
    "                        index=ranks, columns=l3_LN_dends_rs.name)\n",
    "l3_rank_node_density = pd.DataFrame([[[] for _ in range(len(l3_LN_dends_rs.name))] for _ in range(len(ranks))],\n",
    "                                index=ranks, columns=l3_LN_dends_rs.name)\n",
    "for post, neuron_overlaps in l3_neuron_overlap_list.items():\n",
    "\n",
    "    if only_mdIVs_flag == True:\n",
    "        actual_syn_nodes = l3_actual_syn_connectors[l3_actual_syn_connectors.connector_id.isin(l3_actual_syn.connector_id)][l3_actual_syn_connectors.target_name == post].node_id   # pre does not matter for density\n",
    "    else:\n",
    "        actual_syn_nodes = l3_actual_syn_connectors[l3_actual_syn_connectors.target_name == post].node_id   # pre does not matter for density\n",
    "\n",
    "    common_nodes = set(neuron_overlaps[neuron_overlaps.overlap_rank>0].node_id).intersection(set(actual_syn_nodes))\n",
    "    non_common_nodes = set(neuron_overlaps[neuron_overlaps.overlap_rank==0].node_id).intersection(set(actual_syn_nodes))\n",
    "    l3_overlap_density_LN.loc[0,post] = len(common_nodes) / neuron_overlaps[neuron_overlaps.overlap_rank>0].node_length.sum()\n",
    "\n",
    "    for pre in l3_all_axons_rs:\n",
    "        if each_mdIV_flag == True and only_mdIVs_flag == True:\n",
    "            actual_syn_nodes = l3_actual_syn_connectors[\n",
    "                (l3_actual_syn_connectors.target_name == post) & \n",
    "                (l3_actual_syn_connectors.source_name == pre.name)\n",
    "            ].node_id\n",
    "        neuron_overlaps.pre_overlaps = neuron_overlaps.pre_overlaps.astype(str)\n",
    "        nodes_overlapping = neuron_overlaps[neuron_overlaps.pre_overlaps.str.contains(pre.name)]\n",
    "        \n",
    "        # count all the synapses that are at those nodes and divide by the length of the overlap\n",
    "        common_nodes = set(nodes_overlapping.node_id).intersection(set(actual_syn_nodes))\n",
    "        overlap_length = nodes_overlapping.node_length.values.sum()\n",
    "\n",
    "        if overlap_length == 0:\n",
    "            syn_density_overlap = 0\n",
    "        else:\n",
    "            if each_mdIV_flag == True and only_mdIVs_flag == True:\n",
    "                syn_density_overlap = len(actual_syn_nodes) / overlap_length\n",
    "            else:\n",
    "                syn_density_overlap = len(common_nodes) / overlap_length\n",
    "\n",
    "        l3_overlap_density_all.loc[pre.name, post] = syn_density_overlap\n",
    "\n",
    "    for rank in ranks:\n",
    "        nodes_rank = neuron_overlaps[neuron_overlaps.overlap_rank == rank]\n",
    "        common_nodes = set(nodes_rank.node_id).intersection(set(actual_syn_nodes))\n",
    "        overlap_length = nodes_rank.node_length.values.sum()\n",
    "        l3_rank_overlap.loc[rank, post] = overlap_length\n",
    "        if overlap_length == 0:\n",
    "            syn_density_overlap = 0\n",
    "        else:\n",
    "            syn_density_overlap = len(common_nodes) / overlap_length\n",
    "        l3_rank_density.loc[rank, post] = syn_density_overlap\n",
    "        l3_rank_node_density.loc[rank, post] = nodes_rank.synapse_density.values\n",
    "\n",
    "l1_rank_overlap_norm = l1_rank_overlap / l1_rank_overlap.sum()\n",
    "l3_rank_overlap_norm = l3_rank_overlap / l3_rank_overlap.sum()"
   ]
  },
  {
   "cell_type": "markdown",
   "metadata": {},
   "source": [
    "## Figure 6"
   ]
  },
  {
   "cell_type": "markdown",
   "metadata": {},
   "source": [
    "### Figure 6 panel B and C:"
   ]
  },
  {
   "cell_type": "code",
   "execution_count": 12,
   "metadata": {},
   "outputs": [
    {
     "data": {
      "image/png": "[encoded data removed]",
      "text/plain": [
       "<Figure size 400x400 with 1 Axes>"
      ]
     },
     "metadata": {},
     "output_type": "display_data"
    },
    {
     "data": {
      "image/png": "[encoded data removed]",
      "text/plain": [
       "<Figure size 400x400 with 1 Axes>"
      ]
     },
     "metadata": {},
     "output_type": "display_data"
    }
   ],
   "source": [
    "l1_data = l1_rank_overlap.sum(axis=0).reset_index()\n",
    "l3_data = l3_rank_overlap.sum(axis=0).reset_index()\n",
    "l1_data.columns = ['neuron_id', 'Cable overlap']\n",
    "l3_data.columns = ['neuron_id', 'Cable overlap']\n",
    "l1_data['layer'] = 'L1'\n",
    "l3_data['layer'] = 'L3'\n",
    "\n",
    "combined_data = pd.concat([l1_data, l3_data], ignore_index=True)\n",
    "combined_data['cell_type'] = combined_data['neuron_id'].str.extract(r'(^[^_]+)')\n",
    "combined_data = combined_data.sort_values(by=['cell_type', 'neuron_id']).reset_index(drop=True)\n",
    "\n",
    "plt.figure(figsize=(4, 4))\n",
    "ax = sns.barplot(\n",
    "    data=combined_data,\n",
    "    x='neuron_id', y='Cable overlap',\n",
    "    hue='layer',\n",
    "    palette=plot_settings.color_dict\n",
    ")\n",
    "ax.set_xticks([])\n",
    "cell_types = combined_data['cell_type'].unique()\n",
    "xticks = []\n",
    "xticklabels = []\n",
    "group_size = 4  # 2x L1 + 2x L3 per cell type\n",
    "\n",
    "for i, ct in enumerate(cell_types):\n",
    "    center = i * group_size + (group_size - 1) / 2\n",
    "    xticks.append(center)\n",
    "    xticklabels.append(ct)\n",
    "ax.set_xticks(xticks)\n",
    "ax.set_xticklabels(xticklabels, rotation=45, ha='right')\n",
    "ax.set_ylabel(\"Cable overlap\")\n",
    "ax.set_xlabel(\"\")\n",
    "plt.tight_layout()\n",
    "\n",
    "# plt.savefig(path_plots+'Fig6/Fig6B.png')\n",
    "# plt.savefig(path_plots+'Fig6/Fig6B.svg')\n",
    "\n",
    "\n",
    "l1_norm = l1_rank_overlap.sum(axis=0) / np.diagonal(l1_overlap_dend)\n",
    "l3_norm = l3_rank_overlap.sum(axis=0) / np.diagonal(l3_overlap_dend)\n",
    "l1_df_norm = pd.DataFrame({\n",
    "    'neuron_id': l1_rank_overlap.columns,\n",
    "    'Normalized cable overlap': l1_norm,\n",
    "    'layer': 'L1'\n",
    "})\n",
    "l3_df_norm = pd.DataFrame({\n",
    "    'neuron_id': l3_rank_overlap.columns,\n",
    "    'Normalized cable overlap': l3_norm,\n",
    "    'layer': 'L3'\n",
    "})\n",
    "combined_df_norm = pd.concat([l1_df_norm, l3_df_norm], ignore_index=True)\n",
    "combined_df_norm['cell_type'] = combined_df_norm['neuron_id'].str.extract(r'(^[^_]+)')\n",
    "combined_df_norm = combined_df_norm.sort_values(by=['cell_type', 'neuron_id']).reset_index(drop=True)\n",
    "\n",
    "plt.figure(figsize=(4, 4))\n",
    "ax = sns.barplot(\n",
    "    data=combined_df_norm,\n",
    "    x='neuron_id', y='Normalized cable overlap',\n",
    "    hue='layer',\n",
    "    palette=plot_settings.color_dict\n",
    ")\n",
    "ax.set_xticks([])\n",
    "xticks = []\n",
    "xticklabels = []\n",
    "for i, ct in enumerate(combined_df_norm['cell_type'].unique()):\n",
    "    center = i * group_size + (group_size - 1) / 2\n",
    "    xticks.append(center)\n",
    "    xticklabels.append(ct)\n",
    "\n",
    "ax.set_xticks(xticks)\n",
    "ax.set_xticklabels(xticklabels, rotation=45, ha='right')\n",
    "ax.set_ylabel(\"Normalized cable overlap\")\n",
    "ax.set_xlabel(\"\")\n",
    "plt.tight_layout()\n",
    "\n",
    "# plt.savefig(path_plots+'Fig6/Fig6C.png')\n",
    "# plt.savefig(path_plots+'Fig6/Fig6C.svg')"
   ]
  },
  {
   "cell_type": "markdown",
   "metadata": {},
   "source": [
    "Overlap fold change:"
   ]
  },
  {
   "cell_type": "code",
   "execution_count": 13,
   "metadata": {},
   "outputs": [],
   "source": [
    "l1_l3_LN_df = pd.DataFrame({'Neuron': pd.concat([l1_overlap_all.sum(axis=1), l3_overlap_all.sum(axis=1)]).index.values,\n",
    "                          'Instar': ['L1']*len(l1_overlap_all.sum(axis=1)) + ['L3']*len(l3_overlap_all.sum(axis=1)),\n",
    "                          'Cable overlap': pd.concat([l1_rank_overlap.sum(), l3_rank_overlap.sum()]),\n",
    "                          })\n",
    "l1_overlap_all_norm = (l1_overlap_all.T / np.diag(l1_overlap_dend)).T\n",
    "l3_overlap_all_norm = (l3_overlap_all.T / np.diag(l3_overlap_dend)).T\n",
    "l1_l3_LN_df_norm = pd.DataFrame({'Neuron': pd.concat([l1_overlap_all_norm.sum(axis=1), l3_overlap_all_norm.sum(axis=1)]).index.values,\n",
    "                          'Instar': ['L1']*len(l1_overlap_all_norm.sum(axis=1)) + ['L3']*len(l3_overlap_all_norm.sum(axis=1)),\n",
    "                          'Normalized cable overlap': pd.concat([l1_rank_overlap.sum() / np.diagonal(l1_overlap_dend), l3_rank_overlap.sum() / np.diagonal(l3_overlap_dend)]),\n",
    "                          })"
   ]
  },
  {
   "cell_type": "code",
   "execution_count": 14,
   "metadata": {},
   "outputs": [
    {
     "data": {
      "text/plain": [
       "np.float64(3.3675762750010536)"
      ]
     },
     "execution_count": 14,
     "metadata": {},
     "output_type": "execute_result"
    }
   ],
   "source": [
    "np.median(l1_l3_LN_df[l1_l3_LN_df['Instar'] == 'L3']['Cable overlap'].values / l1_l3_LN_df[l1_l3_LN_df['Instar'] == 'L1']['Cable overlap'].values)"
   ]
  },
  {
   "cell_type": "markdown",
   "metadata": {},
   "source": [
    "Norm overlap fold change:"
   ]
  },
  {
   "cell_type": "code",
   "execution_count": 15,
   "metadata": {},
   "outputs": [
    {
     "data": {
      "text/plain": [
       "np.float64(0.6299466014492182)"
      ]
     },
     "execution_count": 15,
     "metadata": {},
     "output_type": "execute_result"
    }
   ],
   "source": [
    "np.median(l1_l3_LN_df_norm[l1_l3_LN_df_norm['Instar'] == 'L3']['Normalized cable overlap'].values / l1_l3_LN_df_norm[l1_l3_LN_df_norm['Instar'] == 'L1']['Normalized cable overlap'].values)"
   ]
  },
  {
   "cell_type": "markdown",
   "metadata": {},
   "source": [
    "Cable overlap in L1 and L3 is significantly different:"
   ]
  },
  {
   "cell_type": "code",
   "execution_count": 16,
   "metadata": {},
   "outputs": [
    {
     "name": "stdout",
     "output_type": "stream",
     "text": [
      "Ttest p-value: 3.3032776807669044e-05\n"
     ]
    }
   ],
   "source": [
    "# Ttest on the overlap of L1 and L3\n",
    "t_stat, p_value = ttest_ind(l1_l3_LN_df[l1_l3_LN_df['Instar'] == 'L1']['Cable overlap'],\n",
    "                                    l1_l3_LN_df[l1_l3_LN_df['Instar'] == 'L3']['Cable overlap'])\n",
    "print('Ttest p-value:', p_value)"
   ]
  },
  {
   "cell_type": "markdown",
   "metadata": {},
   "source": [
    "### Figure 6 panel D:"
   ]
  },
  {
   "cell_type": "markdown",
   "metadata": {},
   "source": [
    "pygraphviz is needed to create those plots:"
   ]
  },
  {
   "cell_type": "code",
   "execution_count": 17,
   "metadata": {},
   "outputs": [
    {
     "name": "stderr",
     "output_type": "stream",
     "text": [
      "INFO  : Calculating node positions. (navis)\n",
      "INFO  : Plotting tree. (navis)\n",
      "INFO  : Calculating node positions. (navis)\n",
      "INFO  : Plotting tree. (navis)\n",
      "/var/folders/gn/ytyxl_590xl1qbsb3g58w0sc0000gn/T/ipykernel_323/1426693351.py:19: FutureWarning: ChainedAssignmentError: behaviour will change in pandas 3.0!\n",
      "You are setting values through chained assignment. Currently this works in certain cases, but when using Copy-on-Write (which will become the default behaviour in pandas 3.0) this will never work to update the original DataFrame or Series, because the intermediate object on which we are setting values will behave as a copy.\n",
      "A typical example is when you are setting values in a column of a DataFrame, like:\n",
      "\n",
      "df[\"col\"][row_indexer] = value\n",
      "\n",
      "Use `df.loc[row_indexer, \"col\"] = values` instead, to perform the assignment in a single step and ensure this keeps updating the original `df`.\n",
      "\n",
      "See the caveats in the documentation: https://pandas.pydata.org/pandas-docs/stable/user_guide/indexing.html#returning-a-view-versus-a-copy\n",
      "\n",
      "  l1_LN_axon_flat.nodes.loc[:,'x'] = [l1_pos[id][0] for id in l1_LN_axon_flat.nodes.node_id]\n",
      "/var/folders/gn/ytyxl_590xl1qbsb3g58w0sc0000gn/T/ipykernel_323/1426693351.py:20: FutureWarning: ChainedAssignmentError: behaviour will change in pandas 3.0!\n",
      "You are setting values through chained assignment. Currently this works in certain cases, but when using Copy-on-Write (which will become the default behaviour in pandas 3.0) this will never work to update the original DataFrame or Series, because the intermediate object on which we are setting values will behave as a copy.\n",
      "A typical example is when you are setting values in a column of a DataFrame, like:\n",
      "\n",
      "df[\"col\"][row_indexer] = value\n",
      "\n",
      "Use `df.loc[row_indexer, \"col\"] = values` instead, to perform the assignment in a single step and ensure this keeps updating the original `df`.\n",
      "\n",
      "See the caveats in the documentation: https://pandas.pydata.org/pandas-docs/stable/user_guide/indexing.html#returning-a-view-versus-a-copy\n",
      "\n",
      "  l1_LN_axon_flat.nodes.loc[:,'y'] = [l1_pos[id][1] for id in l1_LN_axon_flat.nodes.node_id]\n",
      "/var/folders/gn/ytyxl_590xl1qbsb3g58w0sc0000gn/T/ipykernel_323/1426693351.py:22: FutureWarning: ChainedAssignmentError: behaviour will change in pandas 3.0!\n",
      "You are setting values through chained assignment. Currently this works in certain cases, but when using Copy-on-Write (which will become the default behaviour in pandas 3.0) this will never work to update the original DataFrame or Series, because the intermediate object on which we are setting values will behave as a copy.\n",
      "A typical example is when you are setting values in a column of a DataFrame, like:\n",
      "\n",
      "df[\"col\"][row_indexer] = value\n",
      "\n",
      "Use `df.loc[row_indexer, \"col\"] = values` instead, to perform the assignment in a single step and ensure this keeps updating the original `df`.\n",
      "\n",
      "See the caveats in the documentation: https://pandas.pydata.org/pandas-docs/stable/user_guide/indexing.html#returning-a-view-versus-a-copy\n",
      "\n",
      "  l3_LN_axon_flat.nodes.loc[:,'x'] = [l3_pos[id][0] for id in l3_LN_axon_flat.nodes.node_id]\n",
      "/var/folders/gn/ytyxl_590xl1qbsb3g58w0sc0000gn/T/ipykernel_323/1426693351.py:23: FutureWarning: ChainedAssignmentError: behaviour will change in pandas 3.0!\n",
      "You are setting values through chained assignment. Currently this works in certain cases, but when using Copy-on-Write (which will become the default behaviour in pandas 3.0) this will never work to update the original DataFrame or Series, because the intermediate object on which we are setting values will behave as a copy.\n",
      "A typical example is when you are setting values in a column of a DataFrame, like:\n",
      "\n",
      "df[\"col\"][row_indexer] = value\n",
      "\n",
      "Use `df.loc[row_indexer, \"col\"] = values` instead, to perform the assignment in a single step and ensure this keeps updating the original `df`.\n",
      "\n",
      "See the caveats in the documentation: https://pandas.pydata.org/pandas-docs/stable/user_guide/indexing.html#returning-a-view-versus-a-copy\n",
      "\n",
      "  l3_LN_axon_flat.nodes.loc[:,'y'] = [l3_pos[id][1] for id in l3_LN_axon_flat.nodes.node_id]\n"
     ]
    },
    {
     "data": {
      "image/png": "[encoded data removed]",
      "text/plain": [
       "<Figure size 800x800 with 1 Axes>"
      ]
     },
     "metadata": {},
     "output_type": "display_data"
    },
    {
     "data": {
      "image/png": "[encoded data removed]",
      "text/plain": [
       "<Figure size 800x800 with 1 Axes>"
      ]
     },
     "metadata": {},
     "output_type": "display_data"
    }
   ],
   "source": [
    "l1_overlap_selected_loc = l1_overlap_selected_loc.sort_values('source_name', ascending=False)\n",
    "l3_overlap_selected_loc = l3_overlap_selected_loc.sort_values('source_name', ascending=False)\n",
    "\n",
    "fig1, ax1 = plt.subplots(1, figsize=(8, 8))\n",
    "fig2, ax2 = plt.subplots(1, figsize=(8, 8))\n",
    "\n",
    "l1_ax, l1_pos = navis.plot_flat(l1_selected_overlap, layout='sfdp', ax=ax1, use_cache=False)\n",
    "l3_ax, l3_pos = navis.plot_flat(l3_selected_overlap, layout='sfdp', ax=ax2, use_cache=False)\n",
    "\n",
    "# Map 3D coords to 2D coords\n",
    "l1_overlap_selected_loc['x_flat'] = [l1_pos[id][0] for id in l1_overlap_selected_loc.target_node_index]\n",
    "l1_overlap_selected_loc['y_flat'] = [l1_pos[id][1] for id in l1_overlap_selected_loc.target_node_index]\n",
    "\n",
    "l3_overlap_selected_loc['x_flat'] = [l3_pos[id][0] for id in l3_overlap_selected_loc.target_node_index]\n",
    "l3_overlap_selected_loc['y_flat'] = [l3_pos[id][1] for id in l3_overlap_selected_loc.target_node_index]\n",
    "\n",
    "# Axon\n",
    "l1_LN_axon_flat = l1_LN_axons_rs[l1_LN_axons_rs.name == l1_selected_overlap.name].copy()\n",
    "l1_LN_axon_flat.nodes.loc[:,'x'] = [l1_pos[id][0] for id in l1_LN_axon_flat.nodes.node_id]\n",
    "l1_LN_axon_flat.nodes.loc[:,'y'] = [l1_pos[id][1] for id in l1_LN_axon_flat.nodes.node_id]\n",
    "l3_LN_axon_flat = l3_LN_axons_rs[l3_LN_axons_rs.name == l3_selected_overlap.name].copy()\n",
    "l3_LN_axon_flat.nodes.loc[:,'x'] = [l3_pos[id][0] for id in l3_LN_axon_flat.nodes.node_id]\n",
    "l3_LN_axon_flat.nodes.loc[:,'y'] = [l3_pos[id][1] for id in l3_LN_axon_flat.nodes.node_id]\n",
    "\n",
    "navis.plot2d(l1_LN_axon_flat, method='2d', color='silver', linewidth=3, ax=ax1)\n",
    "navis.plot2d(l3_LN_axon_flat, method='2d', color='silver', linewidth=3, ax=ax2)\n",
    "\n",
    "for collection in ax1.collections:\n",
    "    collection.set_linewidth(3)\n",
    "\n",
    "# Iterate over line collections in ax2\n",
    "for collection in ax2.collections:\n",
    "    collection.set_linewidth(3)\n",
    "\n",
    "# Map the values to colors\n",
    "l1_source_dict = l1_overlap_selected_loc.source_name.unique()\n",
    "l3_source_dict = l3_overlap_selected_loc.source_name.unique()\n",
    "cmap = plt.cm.tab10\n",
    "norm = Normalize(vmin=0, vmax=10)\n",
    "l1_overlap_selected_loc['color'] = l1_overlap_selected_loc['source_name'].map(plot_settings.neuron_color_dict)\n",
    "l3_overlap_selected_loc['color'] = l3_overlap_selected_loc['source_name'].map(plot_settings.neuron_color_dict)\n",
    "\n",
    "for x, y, c in zip(l1_overlap_selected_loc['x_flat'], l1_overlap_selected_loc['y_flat'],\n",
    "                        l1_overlap_selected_loc['color']):\n",
    "    l1_ax.scatter(x=x, y=y, color=c, s=20)\n",
    "\n",
    "for x, y, c in zip(l3_overlap_selected_loc['x_flat'], l3_overlap_selected_loc['y_flat'],\n",
    "                        l3_overlap_selected_loc['color']):\n",
    "    l3_ax.scatter(x=x, y=y, color=c, s=20)\n",
    "\n",
    "# fig1.savefig(path_plots+'Fig6/Fig6D_L1.png')\n",
    "# fig2.savefig(path_plots+'Fig6/Fig6D_L3.png')"
   ]
  },
  {
   "cell_type": "markdown",
   "metadata": {},
   "source": [
    "### Figure 6 panel E:"
   ]
  },
  {
   "cell_type": "code",
   "execution_count": 18,
   "metadata": {},
   "outputs": [
    {
     "data": {
      "text/html": [
       "<div>\n",
       "<style scoped>\n",
       "    .dataframe tbody tr th:only-of-type {\n",
       "        vertical-align: middle;\n",
       "    }\n",
       "\n",
       "    .dataframe tbody tr th {\n",
       "        vertical-align: top;\n",
       "    }\n",
       "\n",
       "    .dataframe thead th {\n",
       "        text-align: right;\n",
       "    }\n",
       "</style>\n",
       "<table border=\"1\" class=\"dataframe\">\n",
       "  <thead>\n",
       "    <tr style=\"text-align: right;\">\n",
       "      <th></th>\n",
       "      <th>Neuron</th>\n",
       "      <th>Instar</th>\n",
       "      <th>Cable length</th>\n",
       "      <th>Presynapses</th>\n",
       "      <th>synapse density</th>\n",
       "    </tr>\n",
       "  </thead>\n",
       "  <tbody>\n",
       "    <tr>\n",
       "      <th>0</th>\n",
       "      <td>ddaC</td>\n",
       "      <td>L1</td>\n",
       "      <td>68.974922</td>\n",
       "      <td>50</td>\n",
       "      <td>0.724901</td>\n",
       "    </tr>\n",
       "    <tr>\n",
       "      <th>1</th>\n",
       "      <td>ddaC</td>\n",
       "      <td>L1</td>\n",
       "      <td>66.788170</td>\n",
       "      <td>60</td>\n",
       "      <td>0.898363</td>\n",
       "    </tr>\n",
       "    <tr>\n",
       "      <th>2</th>\n",
       "      <td>v'ada</td>\n",
       "      <td>L1</td>\n",
       "      <td>61.348072</td>\n",
       "      <td>47</td>\n",
       "      <td>0.766120</td>\n",
       "    </tr>\n",
       "    <tr>\n",
       "      <th>3</th>\n",
       "      <td>v'ada</td>\n",
       "      <td>L1</td>\n",
       "      <td>64.614182</td>\n",
       "      <td>57</td>\n",
       "      <td>0.882159</td>\n",
       "    </tr>\n",
       "    <tr>\n",
       "      <th>4</th>\n",
       "      <td>vdaB</td>\n",
       "      <td>L1</td>\n",
       "      <td>85.298279</td>\n",
       "      <td>43</td>\n",
       "      <td>0.504113</td>\n",
       "    </tr>\n",
       "    <tr>\n",
       "      <th>5</th>\n",
       "      <td>vdaB</td>\n",
       "      <td>L1</td>\n",
       "      <td>95.334427</td>\n",
       "      <td>46</td>\n",
       "      <td>0.482512</td>\n",
       "    </tr>\n",
       "    <tr>\n",
       "      <th>6</th>\n",
       "      <td>ddaC</td>\n",
       "      <td>L3</td>\n",
       "      <td>230.486984</td>\n",
       "      <td>274</td>\n",
       "      <td>1.188787</td>\n",
       "    </tr>\n",
       "    <tr>\n",
       "      <th>7</th>\n",
       "      <td>ddaC</td>\n",
       "      <td>L3</td>\n",
       "      <td>194.883408</td>\n",
       "      <td>157</td>\n",
       "      <td>0.805610</td>\n",
       "    </tr>\n",
       "    <tr>\n",
       "      <th>8</th>\n",
       "      <td>v'ada</td>\n",
       "      <td>L3</td>\n",
       "      <td>273.987335</td>\n",
       "      <td>247</td>\n",
       "      <td>0.901502</td>\n",
       "    </tr>\n",
       "    <tr>\n",
       "      <th>9</th>\n",
       "      <td>v'ada</td>\n",
       "      <td>L3</td>\n",
       "      <td>310.198639</td>\n",
       "      <td>287</td>\n",
       "      <td>0.925214</td>\n",
       "    </tr>\n",
       "    <tr>\n",
       "      <th>10</th>\n",
       "      <td>vdaB</td>\n",
       "      <td>L3</td>\n",
       "      <td>272.681061</td>\n",
       "      <td>233</td>\n",
       "      <td>0.854478</td>\n",
       "    </tr>\n",
       "    <tr>\n",
       "      <th>11</th>\n",
       "      <td>vdaB</td>\n",
       "      <td>L3</td>\n",
       "      <td>348.490509</td>\n",
       "      <td>293</td>\n",
       "      <td>0.840769</td>\n",
       "    </tr>\n",
       "  </tbody>\n",
       "</table>\n",
       "</div>"
      ],
      "text/plain": [
       "   Neuron Instar  Cable length  Presynapses  synapse density\n",
       "0    ddaC     L1     68.974922           50         0.724901\n",
       "1    ddaC     L1     66.788170           60         0.898363\n",
       "2   v'ada     L1     61.348072           47         0.766120\n",
       "3   v'ada     L1     64.614182           57         0.882159\n",
       "4    vdaB     L1     85.298279           43         0.504113\n",
       "5    vdaB     L1     95.334427           46         0.482512\n",
       "6    ddaC     L3    230.486984          274         1.188787\n",
       "7    ddaC     L3    194.883408          157         0.805610\n",
       "8   v'ada     L3    273.987335          247         0.901502\n",
       "9   v'ada     L3    310.198639          287         0.925214\n",
       "10   vdaB     L3    272.681061          233         0.854478\n",
       "11   vdaB     L3    348.490509          293         0.840769"
      ]
     },
     "execution_count": 18,
     "metadata": {},
     "output_type": "execute_result"
    }
   ],
   "source": [
    "l1_l3_mdIV_df = pd.DataFrame({'Neuron': ['ddaC']*len(l1_ddaC_neurons) + ['v\\'ada']*len(l1_vada_neurons) + ['vdaB']*len(l1_vdaB_neurons) + ['ddaC']*len(l3_ddaC_neurons) + ['v\\'ada']*len(l3_vada_neurons) + ['vdaB']*len(l3_vdaB_neurons),\n",
    "                          'Instar': ['L1']*len(l1_n_axon) + ['L3']*len(l3_n_axon),\n",
    "                          'Cable length': [n.cable_length / 1000 for n in l1_n_axon+l3_n_axon],\n",
    "                          'Presynapses': [len(n.presynapses) for n in l1_n_axon+l3_n_axon]})\n",
    "l1_l3_mdIV_df['synapse density'] = (l1_l3_mdIV_df['Presynapses'] / l1_l3_mdIV_df['Cable length'])\n",
    "l1_l3_mdIV_df"
   ]
  },
  {
   "cell_type": "code",
   "execution_count": 19,
   "metadata": {},
   "outputs": [
    {
     "name": "stdout",
     "output_type": "stream",
     "text": [
      "Paired t-test of L1 vs. L3 density:\n",
      "T-statistic: -2.2573029909185207\n",
      "P-value: 0.04758595517243751\n",
      "Statistically significant.\n",
      "\n"
     ]
    },
    {
     "name": "stderr",
     "output_type": "stream",
     "text": [
      "/var/folders/gn/ytyxl_590xl1qbsb3g58w0sc0000gn/T/ipykernel_323/3766877097.py:17: FutureWarning: \n",
      "\n",
      "Passing `palette` without assigning `hue` is deprecated and will be removed in v0.14.0. Assign the `x` variable to `hue` and set `legend=False` for the same effect.\n",
      "\n",
      "  sns.boxplot(x='Instar', y='synapse density', data=l1_l3_mdIV_df, palette=plot_settings.color_dict)\n"
     ]
    },
    {
     "data": {
      "text/plain": [
       "Text(0.5, 1.2987873013224922, '*')"
      ]
     },
     "execution_count": 19,
     "metadata": {},
     "output_type": "execute_result"
    },
    {
     "data": {
      "image/png": "[encoded data removed]",
      "text/plain": [
       "<Figure size 400x400 with 1 Axes>"
      ]
     },
     "metadata": {},
     "output_type": "display_data"
    }
   ],
   "source": [
    "# # Perform paired t-test\n",
    "t_stat, p_value = ttest_ind(l1_l3_mdIV_df[l1_l3_mdIV_df.Instar == 'L1']['synapse density'], l1_l3_mdIV_df[l1_l3_mdIV_df.Instar == 'L3']['synapse density'])\n",
    "\n",
    "# Print the results\n",
    "print(\"Paired t-test of L1 vs. L3 density:\")\n",
    "print(f\"T-statistic: {t_stat}\")\n",
    "print(f\"P-value: {p_value}\")\n",
    "\n",
    "# Check significance\n",
    "alpha = 0.05\n",
    "if p_value < alpha:\n",
    "    print(\"Statistically significant.\\n\")\n",
    "else:\n",
    "    print(\"There is no statistically significant difference.\\n\")\n",
    "\n",
    "fig, ax1 = plt.subplots(1, 1, figsize=(4, 4))\n",
    "sns.boxplot(x='Instar', y='synapse density', data=l1_l3_mdIV_df, palette=plot_settings.color_dict)\n",
    "sns.swarmplot(x='Instar', y='synapse density', data=l1_l3_mdIV_df, ax=ax1, color='k')\n",
    "\n",
    "for i in range(len(l1_l3_mdIV_df[l1_l3_mdIV_df.Instar == 'L1'])):\n",
    "    ax1.plot([0, 1], [l1_l3_mdIV_df[l1_l3_mdIV_df.Instar == 'L1']['synapse density'].iloc[i], l1_l3_mdIV_df[l1_l3_mdIV_df.Instar == 'L3']['synapse density'].iloc[i]], color='k', linewidth=1, alpha=0.3)\n",
    "for i, name in enumerate(l1_l3_mdIV_df[l1_l3_mdIV_df.Instar == 'L3'].Neuron):\n",
    "    ax1.text(1.02, l1_l3_mdIV_df[l1_l3_mdIV_df.Instar == 'L3']['synapse density'].iloc[i], name, fontsize=14)\n",
    "ax1.set_ylabel('Axonal synapse density')\n",
    "\n",
    "# Set the positions for significance stars\n",
    "x1, x2 = 0, 1   # Positions of the groups (x-axis)\n",
    "y, h, col = l1_l3_mdIV_df['synapse density'].max() + 0.1, 0.01, 'k'  # y position, height, and color\n",
    "# Add lines and significance stars\n",
    "ax1.plot([x1, x2], [y, y], lw=1.5, color=col)         # Horizontal line between the groups\n",
    "ax1.text((x1 + x2) * 0.5, y + h, helper.get_significance_star(p_value), ha='center', va='bottom', color=col, fontsize=12)\n",
    "\n",
    "# plt.savefig(path_plots+'Fig6/Fig6E.png')\n",
    "# plt.savefig(path_plots+'Fig6/Fig6E.svg')"
   ]
  },
  {
   "cell_type": "markdown",
   "metadata": {},
   "source": [
    "### Figure 6 panel F:"
   ]
  },
  {
   "cell_type": "code",
   "execution_count": 20,
   "metadata": {},
   "outputs": [
    {
     "name": "stderr",
     "output_type": "stream",
     "text": [
      "/var/folders/gn/ytyxl_590xl1qbsb3g58w0sc0000gn/T/ipykernel_323/470510511.py:3: RuntimeWarning: divide by zero encountered in divide\n",
      "  l3_l1_adjacency_ratio = (l3_adjacency.values / l1_adjacency.values).T\n",
      "/var/folders/gn/ytyxl_590xl1qbsb3g58w0sc0000gn/T/ipykernel_323/470510511.py:3: RuntimeWarning: invalid value encountered in divide\n",
      "  l3_l1_adjacency_ratio = (l3_adjacency.values / l1_adjacency.values).T\n",
      "/var/folders/gn/ytyxl_590xl1qbsb3g58w0sc0000gn/T/ipykernel_323/470510511.py:4: RuntimeWarning: divide by zero encountered in divide\n",
      "  l3_l1_adjacency_ratio_norm = (l3_adjacency_norm.values / l1_adjacency_norm.values).T\n",
      "/var/folders/gn/ytyxl_590xl1qbsb3g58w0sc0000gn/T/ipykernel_323/470510511.py:4: RuntimeWarning: invalid value encountered in divide\n",
      "  l3_l1_adjacency_ratio_norm = (l3_adjacency_norm.values / l1_adjacency_norm.values).T\n",
      "/var/folders/gn/ytyxl_590xl1qbsb3g58w0sc0000gn/T/ipykernel_323/470510511.py:5: RuntimeWarning: divide by zero encountered in divide\n",
      "  l3_l1_OL_density_ratio = l3_overlap_density_all.T.values.flatten() / l1_overlap_density_all.T.values.flatten()\n",
      "/var/folders/gn/ytyxl_590xl1qbsb3g58w0sc0000gn/T/ipykernel_323/470510511.py:5: RuntimeWarning: invalid value encountered in divide\n",
      "  l3_l1_OL_density_ratio = l3_overlap_density_all.T.values.flatten() / l1_overlap_density_all.T.values.flatten()\n"
     ]
    },
    {
     "data": {
      "text/html": [
       "<div>\n",
       "<style scoped>\n",
       "    .dataframe tbody tr th:only-of-type {\n",
       "        vertical-align: middle;\n",
       "    }\n",
       "\n",
       "    .dataframe tbody tr th {\n",
       "        vertical-align: top;\n",
       "    }\n",
       "\n",
       "    .dataframe thead th {\n",
       "        text-align: right;\n",
       "    }\n",
       "</style>\n",
       "<table border=\"1\" class=\"dataframe\">\n",
       "  <thead>\n",
       "    <tr style=\"text-align: right;\">\n",
       "      <th></th>\n",
       "      <th>Pre Neuron</th>\n",
       "      <th>Post Neuron</th>\n",
       "      <th>Overlap ratio</th>\n",
       "      <th>Overlap ratio norm</th>\n",
       "      <th>Input ratio</th>\n",
       "      <th>Input ratio norm</th>\n",
       "      <th>Density ratio</th>\n",
       "      <th>OL times density</th>\n",
       "      <th>OL times density norm</th>\n",
       "    </tr>\n",
       "  </thead>\n",
       "  <tbody>\n",
       "    <tr>\n",
       "      <th>0</th>\n",
       "      <td>A02m0</td>\n",
       "      <td>ddaC</td>\n",
       "      <td>3.383404</td>\n",
       "      <td>0.510419</td>\n",
       "      <td>6.500000</td>\n",
       "      <td>1.040850</td>\n",
       "      <td>1.921142</td>\n",
       "      <td>6.500000</td>\n",
       "      <td>0.980588</td>\n",
       "    </tr>\n",
       "    <tr>\n",
       "      <th>1</th>\n",
       "      <td>A02m0</td>\n",
       "      <td>ddaC</td>\n",
       "      <td>9.124849</td>\n",
       "      <td>1.376572</td>\n",
       "      <td>19.000000</td>\n",
       "      <td>3.042484</td>\n",
       "      <td>2.082226</td>\n",
       "      <td>19.000000</td>\n",
       "      <td>2.866334</td>\n",
       "    </tr>\n",
       "    <tr>\n",
       "      <th>2</th>\n",
       "      <td>A02m0</td>\n",
       "      <td>v'ada</td>\n",
       "      <td>1.353678</td>\n",
       "      <td>0.204215</td>\n",
       "      <td>2.000000</td>\n",
       "      <td>0.320261</td>\n",
       "      <td>1.477456</td>\n",
       "      <td>2.000000</td>\n",
       "      <td>0.301719</td>\n",
       "    </tr>\n",
       "    <tr>\n",
       "      <th>3</th>\n",
       "      <td>A02m0</td>\n",
       "      <td>v'ada</td>\n",
       "      <td>inf</td>\n",
       "      <td>inf</td>\n",
       "      <td>inf</td>\n",
       "      <td>inf</td>\n",
       "      <td>inf</td>\n",
       "      <td>inf</td>\n",
       "      <td>inf</td>\n",
       "    </tr>\n",
       "    <tr>\n",
       "      <th>4</th>\n",
       "      <td>A02m0</td>\n",
       "      <td>vdaB</td>\n",
       "      <td>4.231230</td>\n",
       "      <td>0.638322</td>\n",
       "      <td>0.333333</td>\n",
       "      <td>0.053377</td>\n",
       "      <td>0.078779</td>\n",
       "      <td>0.333333</td>\n",
       "      <td>0.050287</td>\n",
       "    </tr>\n",
       "    <tr>\n",
       "      <th>...</th>\n",
       "      <td>...</td>\n",
       "      <td>...</td>\n",
       "      <td>...</td>\n",
       "      <td>...</td>\n",
       "      <td>...</td>\n",
       "      <td>...</td>\n",
       "      <td>...</td>\n",
       "      <td>...</td>\n",
       "      <td>...</td>\n",
       "    </tr>\n",
       "    <tr>\n",
       "      <th>67</th>\n",
       "      <td>A10a11</td>\n",
       "      <td>ddaC</td>\n",
       "      <td>88.996016</td>\n",
       "      <td>13.514139</td>\n",
       "      <td>inf</td>\n",
       "      <td>inf</td>\n",
       "      <td>inf</td>\n",
       "      <td>inf</td>\n",
       "      <td>inf</td>\n",
       "    </tr>\n",
       "    <tr>\n",
       "      <th>68</th>\n",
       "      <td>A10a11</td>\n",
       "      <td>v'ada</td>\n",
       "      <td>1.356652</td>\n",
       "      <td>0.206009</td>\n",
       "      <td>1.285714</td>\n",
       "      <td>0.218447</td>\n",
       "      <td>0.947711</td>\n",
       "      <td>1.285714</td>\n",
       "      <td>0.195237</td>\n",
       "    </tr>\n",
       "    <tr>\n",
       "      <th>69</th>\n",
       "      <td>A10a11</td>\n",
       "      <td>v'ada</td>\n",
       "      <td>inf</td>\n",
       "      <td>inf</td>\n",
       "      <td>inf</td>\n",
       "      <td>inf</td>\n",
       "      <td>inf</td>\n",
       "      <td>inf</td>\n",
       "      <td>inf</td>\n",
       "    </tr>\n",
       "    <tr>\n",
       "      <th>70</th>\n",
       "      <td>A10a11</td>\n",
       "      <td>vdaB</td>\n",
       "      <td>3.883649</td>\n",
       "      <td>0.589736</td>\n",
       "      <td>5.272727</td>\n",
       "      <td>0.895852</td>\n",
       "      <td>1.357673</td>\n",
       "      <td>5.272727</td>\n",
       "      <td>0.800669</td>\n",
       "    </tr>\n",
       "    <tr>\n",
       "      <th>71</th>\n",
       "      <td>A10a11</td>\n",
       "      <td>vdaB</td>\n",
       "      <td>7.230535</td>\n",
       "      <td>1.097964</td>\n",
       "      <td>13.000000</td>\n",
       "      <td>2.208738</td>\n",
       "      <td>1.797931</td>\n",
       "      <td>13.000000</td>\n",
       "      <td>1.974064</td>\n",
       "    </tr>\n",
       "  </tbody>\n",
       "</table>\n",
       "<p>72 rows × 9 columns</p>\n",
       "</div>"
      ],
      "text/plain": [
       "   Pre Neuron Post Neuron  Overlap ratio  Overlap ratio norm  Input ratio  \\\n",
       "0       A02m0        ddaC       3.383404            0.510419     6.500000   \n",
       "1       A02m0        ddaC       9.124849            1.376572    19.000000   \n",
       "2       A02m0       v'ada       1.353678            0.204215     2.000000   \n",
       "3       A02m0       v'ada            inf                 inf          inf   \n",
       "4       A02m0        vdaB       4.231230            0.638322     0.333333   \n",
       "..        ...         ...            ...                 ...          ...   \n",
       "67     A10a11        ddaC      88.996016           13.514139          inf   \n",
       "68     A10a11       v'ada       1.356652            0.206009     1.285714   \n",
       "69     A10a11       v'ada            inf                 inf          inf   \n",
       "70     A10a11        vdaB       3.883649            0.589736     5.272727   \n",
       "71     A10a11        vdaB       7.230535            1.097964    13.000000   \n",
       "\n",
       "    Input ratio norm  Density ratio  OL times density  OL times density norm  \n",
       "0           1.040850       1.921142          6.500000               0.980588  \n",
       "1           3.042484       2.082226         19.000000               2.866334  \n",
       "2           0.320261       1.477456          2.000000               0.301719  \n",
       "3                inf            inf               inf                    inf  \n",
       "4           0.053377       0.078779          0.333333               0.050287  \n",
       "..               ...            ...               ...                    ...  \n",
       "67               inf            inf               inf                    inf  \n",
       "68          0.218447       0.947711          1.285714               0.195237  \n",
       "69               inf            inf               inf                    inf  \n",
       "70          0.895852       1.357673          5.272727               0.800669  \n",
       "71          2.208738       1.797931         13.000000               1.974064  \n",
       "\n",
       "[72 rows x 9 columns]"
      ]
     },
     "execution_count": 20,
     "metadata": {},
     "output_type": "execute_result"
    }
   ],
   "source": [
    "l3_l1_overlap_ratio = l3_overlap_all / l1_overlap_all\n",
    "l3_l1_overlap_ratio_norm = l3_overlap_all_norm / l1_overlap_all_norm\n",
    "l3_l1_adjacency_ratio = (l3_adjacency.values / l1_adjacency.values).T\n",
    "l3_l1_adjacency_ratio_norm = (l3_adjacency_norm.values / l1_adjacency_norm.values).T\n",
    "l3_l1_OL_density_ratio = l3_overlap_density_all.T.values.flatten() / l1_overlap_density_all.T.values.flatten()\n",
    "pre_neurons = np.repeat([name.split('_')[0] + str(i) for i, name in enumerate(l3_l1_overlap_ratio_norm.index)], l3_l1_overlap_ratio_norm.shape[1])\n",
    "post_neurons = np.tile(l3_l1_overlap_ratio_norm.columns, l3_l1_overlap_ratio_norm.shape[0])\n",
    "\n",
    "l1_l3_overlap_df = pd.DataFrame({\n",
    "                                'Pre Neuron': pre_neurons,\n",
    "                                'Post Neuron': post_neurons,\n",
    "                                'Overlap ratio': l3_l1_overlap_ratio.values.flatten(),\n",
    "                                'Overlap ratio norm': l3_l1_overlap_ratio_norm.values.flatten(),\n",
    "                                'Input ratio': l3_l1_adjacency_ratio.flatten(),\n",
    "                                'Input ratio norm': l3_l1_adjacency_ratio_norm.flatten(),\n",
    "                                'Density ratio': l3_l1_OL_density_ratio,\n",
    "                                'OL times density': l3_l1_overlap_ratio.values.flatten() * l3_l1_OL_density_ratio,\n",
    "                                'OL times density norm': l3_l1_overlap_ratio_norm.values.flatten() * l3_l1_OL_density_ratio,\n",
    "                                })\n",
    "l1_l3_overlap_df"
   ]
  },
  {
   "cell_type": "code",
   "execution_count": 21,
   "metadata": {},
   "outputs": [
    {
     "name": "stdout",
     "output_type": "stream",
     "text": [
      "r = 0.6954721413077717, p = 4.109943185914823e-08, r^2 = 0.2514483667153551\n",
      "r = 0.9622441381417848, p = 1.2250548161728974e-27 , r^2 = 0.8965940529383986\n"
     ]
    },
    {
     "data": {
      "text/plain": [
       "<matplotlib.legend.Legend at 0x3fa284730>"
      ]
     },
     "execution_count": 21,
     "metadata": {},
     "output_type": "execute_result"
    },
    {
     "data": {
      "image/png": "[encoded data removed]",
      "text/plain": [
       "<Figure size 400x400 with 1 Axes>"
      ]
     },
     "metadata": {},
     "output_type": "display_data"
    }
   ],
   "source": [
    "# Change input ratio that are higher than 10 to NaN\n",
    "l1_l3_overlap_df_filtered = l1_l3_overlap_df.replace([np.inf, -np.inf], np.nan).dropna()\n",
    "\n",
    "# Ensure numeric columns are used\n",
    "fig, ax1 = plt.subplots(1, 1, figsize=(4, 4))\n",
    "\n",
    "# Switch x and y for scatter plots\n",
    "sns.scatterplot(data=l1_l3_overlap_df_filtered, x='Overlap ratio norm', y='Input ratio norm', ax=ax1, color='k', s=50)\n",
    "sns.scatterplot(data=l1_l3_overlap_df_filtered, x='OL times density norm', y='Input ratio norm', ax=ax1, color=plot_settings.axon_color, s=50)\n",
    "\n",
    "# Perform linear regression without an intercept (force through origin)\n",
    "b = l1_l3_overlap_df_filtered['Input ratio norm'].values\n",
    "A = l1_l3_overlap_df_filtered['Overlap ratio norm'].values.reshape(-1, 1)\n",
    "model = lsq_linear(A, b)\n",
    "\n",
    "b2 = l1_l3_overlap_df_filtered['Input ratio norm'].values\n",
    "A2 = l1_l3_overlap_df_filtered['OL times density norm'].values.reshape(-1, 1)\n",
    "model2 = lsq_linear(A2, b2)\n",
    "\n",
    "x = l1_l3_overlap_df_filtered['Overlap ratio norm'].values\n",
    "y = l1_l3_overlap_df_filtered['Input ratio norm'].values\n",
    "\n",
    "# Fit Huber Regressor\n",
    "huber = HuberRegressor(epsilon=1.35)\n",
    "huber.fit(x.reshape(-1, 1), y)\n",
    "\n",
    "# Predict regression line\n",
    "x_range = np.linspace(min(x), max(x), 100)\n",
    "y_pred = huber.predict(x_range.reshape(-1, 1))\n",
    "\n",
    "# Perform Pearson correlation\n",
    "r_value, p_value = pearsonr(l1_l3_overlap_df_filtered['Input ratio norm'], l1_l3_overlap_df_filtered['Overlap ratio norm'])\n",
    "r_value2, p_value2 = pearsonr(l1_l3_overlap_df_filtered['Input ratio norm'], l1_l3_overlap_df_filtered['OL times density norm'])\n",
    "\n",
    "\n",
    "r_squared = r2_score(l1_l3_overlap_df_filtered['Input ratio norm'], l1_l3_overlap_df_filtered['Overlap ratio norm'])\n",
    "# r_squared = r2_score(l1_l3_overlap_df_filtered['Overlap ratio norm'], l1_l3_overlap_df_filtered['Input ratio norm'])\n",
    "r_squared2 = r2_score(l1_l3_overlap_df_filtered['Input ratio norm'], l1_l3_overlap_df_filtered['OL times density norm'])\n",
    "# r_squared2 = r2_score(l1_l3_overlap_df_filtered['OL times density norm'], l1_l3_overlap_df_filtered['Input ratio norm'])\n",
    "\n",
    "print(f\"r = {r_value}, p = {p_value}, r^2 = {r_squared}\")\n",
    "print(f\"r = {r_value2}, p = {p_value2} , r^2 = {r_squared2}\")\n",
    "\n",
    "max_filtered = l1_l3_overlap_df_filtered[['Overlap ratio norm', 'Input ratio norm']].max().max()\n",
    "ax1.plot([0, max_filtered], [0, max_filtered], color='k', linestyle='--', label='isometric')\n",
    "# Plot regression lines\n",
    "ax1.plot([0, max_filtered], [0, model.x[0] * max_filtered], color='grey', label='observed')\n",
    "ax1.plot([0, max_filtered], [0, model2.x[0] * max_filtered], color=plot_settings.axon_color, label='corrected')\n",
    "\n",
    "# Update title and labels\n",
    "ax1.set_title(f'r = {r_value:.2f}, p = {p_value:.4f}, r2 = {r_squared:.2f}\\nr = {r_value2:.2f}, p = {p_value2:.4f}, r2 = {r_squared2:.2f}', fontsize=14)\n",
    "ax1.set_xlabel('Norm. overlap fold change')\n",
    "ax1.set_ylabel('Relative connectivity fold change')\n",
    "ax1.set_ylim(ax1.get_xlim())\n",
    "ax1.legend()\n",
    "\n",
    "# plt.savefig(path_plots+'Fig6/Fig6F.png')\n",
    "# plt.savefig(path_plots+'Fig6/Fig6F.svg')"
   ]
  },
  {
   "cell_type": "markdown",
   "metadata": {},
   "source": [
    "## Supplementary Figure 6 S4"
   ]
  },
  {
   "cell_type": "markdown",
   "metadata": {},
   "source": [
    "### Supp. Figure 6 S4 panel A:"
   ]
  },
  {
   "cell_type": "code",
   "execution_count": 22,
   "metadata": {},
   "outputs": [
    {
     "name": "stdout",
     "output_type": "stream",
     "text": [
      "Mean L3/L1 ratio: 3.0809079445662797\n",
      "Mean L3/L1 ratio norm: 0.5741707684805477\n"
     ]
    },
    {
     "data": {
      "text/plain": [
       "([0, 1, 2, 3, 4, 5],\n",
       " [Text(0, 0, 'A02m'),\n",
       "  Text(1, 0, 'A02n'),\n",
       "  Text(2, 0, 'A09a'),\n",
       "  Text(3, 0, 'A09c'),\n",
       "  Text(4, 0, 'A09l'),\n",
       "  Text(5, 0, 'A10a')])"
      ]
     },
     "execution_count": 22,
     "metadata": {},
     "output_type": "execute_result"
    },
    {
     "data": {
      "image/png": "[encoded data removed]",
      "text/plain": [
       "<Figure size 350x400 with 1 Axes>"
      ]
     },
     "metadata": {},
     "output_type": "display_data"
    }
   ],
   "source": [
    "l1_overlap_all_norm = (l1_overlap_all.T / np.diag(l1_overlap_dend)).T\n",
    "l3_overlap_all_norm = (l3_overlap_all.T / np.diag(l3_overlap_dend)).T\n",
    "\n",
    "l1_grouped_df = l1_overlap_all.groupby(l1_overlap_all.index)\n",
    "l3_grouped_df = l3_overlap_all.groupby(l3_overlap_all.index)\n",
    "l1_grouped_df_norm = l1_overlap_all_norm.groupby(l1_overlap_all_norm.index)\n",
    "l3_grouped_df_norm = l3_overlap_all_norm.groupby(l3_overlap_all_norm.index)\n",
    "\n",
    "l1_sum_df = l1_grouped_df.sum().T.sum()\n",
    "l3_sum_df = l3_grouped_df.sum().T.sum()\n",
    "l1_sum_df_norm = l1_grouped_df_norm.sum().T.sum()\n",
    "l3_sum_df_norm = l3_grouped_df_norm.sum().T.sum()\n",
    "\n",
    "\n",
    "l3_l1_overlap_ratio = l3_sum_df / l1_sum_df\n",
    "l3_l1_overlap_ratio_norm = l3_sum_df_norm / l1_sum_df_norm\n",
    "\n",
    "# Plot L3/L1 fraction with diamond markers\n",
    "fig, ax = plt.subplots(figsize=(3.5, 4))\n",
    "sns.scatterplot(data=l3_l1_overlap_ratio, label='Absolute overlap',  fc='none', edgecolor='k', s=50, linewidth=2)\n",
    "sns.scatterplot(data=l3_l1_overlap_ratio_norm, label='Normalized overlap', c='k', s=50, edgecolor='k', linewidth=2)\n",
    "ax.hlines([np.median(l1_l3_LN_df[l1_l3_LN_df['Instar'] == 'L3']['Cable overlap'].values / l1_l3_LN_df[l1_l3_LN_df['Instar'] == 'L1']['Cable overlap'].values),\n",
    "           np.median(l1_l3_LN_df_norm[l1_l3_LN_df_norm['Instar'] == 'L3']['Normalized cable overlap'].values / l1_l3_LN_df_norm[l1_l3_LN_df_norm['Instar'] == 'L1']['Normalized cable overlap'].values),\n",
    "           np.median(l1_l3_LN_df_norm[l1_l3_LN_df_norm['Instar'] == 'L3']['Normalized cable overlap'].values / l1_l3_LN_df_norm[l1_l3_LN_df_norm['Instar'] == 'L1']['Normalized cable overlap'].values) * 1.37\n",
    "           ], 0, 5, colors=['grey','grey','darkred'], linestyles=['--','-', '-'])\n",
    "\n",
    "print('Mean L3/L1 ratio:', l3_l1_overlap_ratio.median())\n",
    "print('Mean L3/L1 ratio norm:', l3_l1_overlap_ratio_norm.median())\n",
    "\n",
    "ax.set_ylabel('L3/L1 overlap fold change')\n",
    "ax.set_yticks(range(0,9,1))\n",
    "plt.xticks(rotation=45)\n",
    "\n",
    "# plt.savefig(path_plots+'Fig6/Fig6S4A.png')\n",
    "# plt.savefig(path_plots+'Fig6/Fig6S4A.svg')"
   ]
  },
  {
   "cell_type": "markdown",
   "metadata": {},
   "source": [
    "### Supp. Figure 6 S4 panel B:"
   ]
  },
  {
   "cell_type": "code",
   "execution_count": 23,
   "metadata": {},
   "outputs": [
    {
     "data": {
      "application/vnd.jupyter.widget-view+json": {
       "model_id": "0397d52ac72a43cc917c2f5b86a108ce",
       "version_major": 2,
       "version_minor": 0
      },
      "text/plain": [
       "Splitting:   0%|          | 0/12 [00:00<?, ?it/s]"
      ]
     },
     "metadata": {},
     "output_type": "display_data"
    },
    {
     "data": {
      "application/vnd.jupyter.widget-view+json": {
       "model_id": "146483f193974d5e877867f2caf7fb43",
       "version_major": 2,
       "version_minor": 0
      },
      "text/plain": [
       "Splitting:   0%|          | 0/12 [00:00<?, ?it/s]"
      ]
     },
     "metadata": {},
     "output_type": "display_data"
    },
    {
     "data": {
      "text/html": [
       "<div>\n",
       "<style scoped>\n",
       "    .dataframe tbody tr th:only-of-type {\n",
       "        vertical-align: middle;\n",
       "    }\n",
       "\n",
       "    .dataframe tbody tr th {\n",
       "        vertical-align: top;\n",
       "    }\n",
       "\n",
       "    .dataframe thead th {\n",
       "        text-align: right;\n",
       "    }\n",
       "</style>\n",
       "<table border=\"1\" class=\"dataframe\">\n",
       "  <thead>\n",
       "    <tr style=\"text-align: right;\">\n",
       "      <th></th>\n",
       "      <th>Neuron</th>\n",
       "      <th>Instar</th>\n",
       "      <th>Cable length</th>\n",
       "      <th>Postsynapses</th>\n",
       "      <th>synapse density</th>\n",
       "    </tr>\n",
       "  </thead>\n",
       "  <tbody>\n",
       "    <tr>\n",
       "      <th>0</th>\n",
       "      <td>A02m</td>\n",
       "      <td>L1</td>\n",
       "      <td>92.759331</td>\n",
       "      <td>45</td>\n",
       "      <td>0.485126</td>\n",
       "    </tr>\n",
       "    <tr>\n",
       "      <th>1</th>\n",
       "      <td>A02m</td>\n",
       "      <td>L1</td>\n",
       "      <td>107.560524</td>\n",
       "      <td>64</td>\n",
       "      <td>0.595014</td>\n",
       "    </tr>\n",
       "    <tr>\n",
       "      <th>2</th>\n",
       "      <td>A02n</td>\n",
       "      <td>L1</td>\n",
       "      <td>90.809952</td>\n",
       "      <td>62</td>\n",
       "      <td>0.682745</td>\n",
       "    </tr>\n",
       "    <tr>\n",
       "      <th>3</th>\n",
       "      <td>A02n</td>\n",
       "      <td>L1</td>\n",
       "      <td>144.127518</td>\n",
       "      <td>65</td>\n",
       "      <td>0.450990</td>\n",
       "    </tr>\n",
       "    <tr>\n",
       "      <th>4</th>\n",
       "      <td>A09a</td>\n",
       "      <td>L1</td>\n",
       "      <td>317.096069</td>\n",
       "      <td>273</td>\n",
       "      <td>0.860938</td>\n",
       "    </tr>\n",
       "    <tr>\n",
       "      <th>5</th>\n",
       "      <td>A09a</td>\n",
       "      <td>L1</td>\n",
       "      <td>362.203247</td>\n",
       "      <td>325</td>\n",
       "      <td>0.897286</td>\n",
       "    </tr>\n",
       "    <tr>\n",
       "      <th>6</th>\n",
       "      <td>A09c</td>\n",
       "      <td>L1</td>\n",
       "      <td>224.705872</td>\n",
       "      <td>181</td>\n",
       "      <td>0.805497</td>\n",
       "    </tr>\n",
       "    <tr>\n",
       "      <th>7</th>\n",
       "      <td>A09c</td>\n",
       "      <td>L1</td>\n",
       "      <td>202.912720</td>\n",
       "      <td>147</td>\n",
       "      <td>0.724449</td>\n",
       "    </tr>\n",
       "    <tr>\n",
       "      <th>8</th>\n",
       "      <td>A09l</td>\n",
       "      <td>L1</td>\n",
       "      <td>192.208878</td>\n",
       "      <td>173</td>\n",
       "      <td>0.900062</td>\n",
       "    </tr>\n",
       "    <tr>\n",
       "      <th>9</th>\n",
       "      <td>A09l</td>\n",
       "      <td>L1</td>\n",
       "      <td>237.729568</td>\n",
       "      <td>223</td>\n",
       "      <td>0.938041</td>\n",
       "    </tr>\n",
       "    <tr>\n",
       "      <th>10</th>\n",
       "      <td>A10a</td>\n",
       "      <td>L1</td>\n",
       "      <td>167.307312</td>\n",
       "      <td>91</td>\n",
       "      <td>0.543909</td>\n",
       "    </tr>\n",
       "    <tr>\n",
       "      <th>11</th>\n",
       "      <td>A10a</td>\n",
       "      <td>L1</td>\n",
       "      <td>141.262833</td>\n",
       "      <td>86</td>\n",
       "      <td>0.608794</td>\n",
       "    </tr>\n",
       "    <tr>\n",
       "      <th>12</th>\n",
       "      <td>A02m</td>\n",
       "      <td>L3</td>\n",
       "      <td>603.289795</td>\n",
       "      <td>289</td>\n",
       "      <td>0.479040</td>\n",
       "    </tr>\n",
       "    <tr>\n",
       "      <th>13</th>\n",
       "      <td>A02m</td>\n",
       "      <td>L3</td>\n",
       "      <td>545.440186</td>\n",
       "      <td>261</td>\n",
       "      <td>0.478513</td>\n",
       "    </tr>\n",
       "    <tr>\n",
       "      <th>14</th>\n",
       "      <td>A02n</td>\n",
       "      <td>L3</td>\n",
       "      <td>647.247498</td>\n",
       "      <td>321</td>\n",
       "      <td>0.495946</td>\n",
       "    </tr>\n",
       "    <tr>\n",
       "      <th>15</th>\n",
       "      <td>A02n</td>\n",
       "      <td>L3</td>\n",
       "      <td>516.820740</td>\n",
       "      <td>260</td>\n",
       "      <td>0.503076</td>\n",
       "    </tr>\n",
       "    <tr>\n",
       "      <th>16</th>\n",
       "      <td>A09a</td>\n",
       "      <td>L3</td>\n",
       "      <td>1551.993286</td>\n",
       "      <td>1519</td>\n",
       "      <td>0.978741</td>\n",
       "    </tr>\n",
       "    <tr>\n",
       "      <th>17</th>\n",
       "      <td>A09a</td>\n",
       "      <td>L3</td>\n",
       "      <td>1532.300171</td>\n",
       "      <td>1508</td>\n",
       "      <td>0.984141</td>\n",
       "    </tr>\n",
       "    <tr>\n",
       "      <th>18</th>\n",
       "      <td>A09c</td>\n",
       "      <td>L3</td>\n",
       "      <td>1137.114014</td>\n",
       "      <td>995</td>\n",
       "      <td>0.875022</td>\n",
       "    </tr>\n",
       "    <tr>\n",
       "      <th>19</th>\n",
       "      <td>A09c</td>\n",
       "      <td>L3</td>\n",
       "      <td>1335.796753</td>\n",
       "      <td>1066</td>\n",
       "      <td>0.798026</td>\n",
       "    </tr>\n",
       "    <tr>\n",
       "      <th>20</th>\n",
       "      <td>A09l</td>\n",
       "      <td>L3</td>\n",
       "      <td>1028.298584</td>\n",
       "      <td>756</td>\n",
       "      <td>0.735195</td>\n",
       "    </tr>\n",
       "    <tr>\n",
       "      <th>21</th>\n",
       "      <td>A09l</td>\n",
       "      <td>L3</td>\n",
       "      <td>920.336365</td>\n",
       "      <td>702</td>\n",
       "      <td>0.762765</td>\n",
       "    </tr>\n",
       "    <tr>\n",
       "      <th>22</th>\n",
       "      <td>A10a</td>\n",
       "      <td>L3</td>\n",
       "      <td>778.301147</td>\n",
       "      <td>477</td>\n",
       "      <td>0.612873</td>\n",
       "    </tr>\n",
       "    <tr>\n",
       "      <th>23</th>\n",
       "      <td>A10a</td>\n",
       "      <td>L3</td>\n",
       "      <td>919.871521</td>\n",
       "      <td>587</td>\n",
       "      <td>0.638133</td>\n",
       "    </tr>\n",
       "  </tbody>\n",
       "</table>\n",
       "</div>"
      ],
      "text/plain": [
       "   Neuron Instar  Cable length  Postsynapses  synapse density\n",
       "0    A02m     L1     92.759331            45         0.485126\n",
       "1    A02m     L1    107.560524            64         0.595014\n",
       "2    A02n     L1     90.809952            62         0.682745\n",
       "3    A02n     L1    144.127518            65         0.450990\n",
       "4    A09a     L1    317.096069           273         0.860938\n",
       "5    A09a     L1    362.203247           325         0.897286\n",
       "6    A09c     L1    224.705872           181         0.805497\n",
       "7    A09c     L1    202.912720           147         0.724449\n",
       "8    A09l     L1    192.208878           173         0.900062\n",
       "9    A09l     L1    237.729568           223         0.938041\n",
       "10   A10a     L1    167.307312            91         0.543909\n",
       "11   A10a     L1    141.262833            86         0.608794\n",
       "12   A02m     L3    603.289795           289         0.479040\n",
       "13   A02m     L3    545.440186           261         0.478513\n",
       "14   A02n     L3    647.247498           321         0.495946\n",
       "15   A02n     L3    516.820740           260         0.503076\n",
       "16   A09a     L3   1551.993286          1519         0.978741\n",
       "17   A09a     L3   1532.300171          1508         0.984141\n",
       "18   A09c     L3   1137.114014           995         0.875022\n",
       "19   A09c     L3   1335.796753          1066         0.798026\n",
       "20   A09l     L3   1028.298584           756         0.735195\n",
       "21   A09l     L3    920.336365           702         0.762765\n",
       "22   A10a     L3    778.301147           477         0.612873\n",
       "23   A10a     L3    919.871521           587         0.638133"
      ]
     },
     "execution_count": 23,
     "metadata": {},
     "output_type": "execute_result"
    }
   ],
   "source": [
    "l1_all_neurons = l1_A02m_neurons + l1_A02n_neurons + l1_A09a_neurons + l1_A09c_neurons + l1_A09l_neurons + l1_A10a_neurons\n",
    "l3_all_neurons = l3_A02m_neurons + l3_A02n_neurons + l3_A09a_neurons + l3_A09c_neurons + l3_A09l_neurons + l3_A10a_neurons\n",
    "\n",
    "# l1_all_neurons_split = navis.morpho.split_axon_dendrite(l1_all_neurons, reroot_soma=True, cellbodyfiber='soma')\n",
    "l1_all_neurons_split = helper.try_with_retries(navis.morpho.split_axon_dendrite, 5, l1_all_neurons, reroot_soma=True, cellbodyfiber='soma')\n",
    "# l3_all_neurons_split = navis.morpho.split_axon_dendrite(l3_all_neurons, reroot_soma=True, cellbodyfiber='soma')\n",
    "l3_all_neurons_split = helper.try_with_retries(navis.morpho.split_axon_dendrite, 5, l3_all_neurons, reroot_soma=True, cellbodyfiber='soma')\n",
    "\n",
    "all_neurons_split = l1_all_neurons_split + l3_all_neurons_split\n",
    "all_neurons = all_neurons_split[all_neurons_split.compartment == 'dendrite']\n",
    "\n",
    "df_LNs = pd.DataFrame({'Neuron': ['A02m']*len(l1_A02m_neurons) + ['A02n']*len(l1_A02n_neurons) + ['A09a']*len(l1_A09a_neurons) + ['A09c']*len(l1_A09c_neurons) + ['A09l']*len(l1_A09l_neurons) + ['A10a']*len(l1_A10a_neurons) + ['A02m']*len(l3_A02m_neurons) + ['A02n']*len(l3_A02n_neurons) + ['A09a']*len(l3_A09a_neurons) + ['A09c']*len(l3_A09c_neurons) + ['A09l']*len(l3_A09l_neurons) + ['A10a']*len(l3_A10a_neurons),\n",
    "# df_LNs = pd.DataFrame({'Neuron': all_neurons.name,\n",
    "                          'Instar': ['L1']*len(l1_A02m_neurons + l1_A02n_neurons + l1_A09a_neurons + l1_A09c_neurons + l1_A09l_neurons + l1_A10a_neurons) + ['L3']*len(l3_A02m_neurons + l3_A02n_neurons + l3_A09a_neurons + l3_A09c_neurons + l3_A09l_neurons + l3_A10a_neurons),\n",
    "                          'Cable length': [n.cable_length / 1000 for n in all_neurons],\n",
    "                          'Postsynapses': [len(n.postsynapses) for n in all_neurons]})\n",
    "df_LNs['synapse density'] = (df_LNs['Postsynapses'] / df_LNs['Cable length'])\n",
    "\n",
    "df_LNs"
   ]
  },
  {
   "cell_type": "code",
   "execution_count": 33,
   "metadata": {},
   "outputs": [
    {
     "name": "stdout",
     "output_type": "stream",
     "text": [
      "T-test L1 axonal density vs L1 density within overlap: p-value = 0.9823836930224845\n",
      "T-test L3 axonal density vs L3 density within overlap: p-value = 0.020794417863931488\n",
      "T-test L3 axonal density corrected vs L3 density within overlap: p-value = 0.18392608289011167\n"
     ]
    },
    {
     "name": "stderr",
     "output_type": "stream",
     "text": [
      "/var/folders/gn/ytyxl_590xl1qbsb3g58w0sc0000gn/T/ipykernel_323/2342668861.py:36: FutureWarning: \n",
      "\n",
      "Passing `palette` without assigning `hue` is deprecated and will be removed in v0.14.0. Assign the `x` variable to `hue` and set `legend=False` for the same effect.\n",
      "\n",
      "  sns.boxplot(x=categories, y=y, palette=[plot_settings.axon_color, plot_settings.axon_color, plot_settings.dendrite_color], ax=ax1)\n"
     ]
    },
    {
     "data": {
      "image/png": "[encoded data removed]",
      "text/plain": [
       "<Figure size 400x400 with 1 Axes>"
      ]
     },
     "metadata": {},
     "output_type": "display_data"
    }
   ],
   "source": [
    "# overlap_scalar = 0.772\n",
    "overlap_scalar = 0.632\n",
    "\n",
    "# Test L1 dendrite density vs L1 density within overlap\n",
    "t_stat_data, p_value_data = ttest_ind(l1_l3_mdIV_df[l1_l3_mdIV_df.Instar == 'L1']['synapse density'].values,\n",
    "    df_LNs[df_LNs.Instar == 'L1']['synapse density'].values)\n",
    "\n",
    "print(f'T-test L1 axonal density vs L1 density within overlap: p-value = {p_value_data}')\n",
    "\n",
    "# Test L1 dendrite density vs L1 density within overlap\n",
    "t_stat_data, p_value_data = ttest_ind(l1_l3_mdIV_df[l1_l3_mdIV_df.Instar == 'L3']['synapse density'].values,\n",
    "    df_LNs[df_LNs.Instar == 'L3']['synapse density'].values)\n",
    "\n",
    "print(f'T-test L3 axonal density vs L3 density within overlap: p-value = {p_value_data}')\n",
    "\n",
    "t_stat_corrected, p_value_corrected = ttest_ind(l1_l3_mdIV_df[l1_l3_mdIV_df.Instar == 'L3']['synapse density'].values * overlap_scalar,\n",
    "    df_LNs[df_LNs.Instar == 'L3']['synapse density'].values)\n",
    "\n",
    "print(f'T-test L3 axonal density corrected vs L3 density within overlap: p-value = {p_value_corrected}')\n",
    "\n",
    "fig, ax1 = plt.subplots(1, 1, figsize=(4, 4))\n",
    "\n",
    "# Prepare data for boxplot\n",
    "x = ['mdIV L3', 'mdIV L3 corrected', 'LN L3']\n",
    "y = np.concatenate([\n",
    "    l1_l3_mdIV_df[l1_l3_mdIV_df.Instar == 'L3']['synapse density'].values,\n",
    "    l1_l3_mdIV_df[l1_l3_mdIV_df.Instar == 'L3']['synapse density'].values * overlap_scalar,\n",
    "    df_LNs[df_LNs.Instar == 'L3']['synapse density'].values\n",
    "])\n",
    "categories = np.concatenate([\n",
    "    np.repeat('mdIV L3', len(l1_l3_mdIV_df[l1_l3_mdIV_df.Instar == 'L3'])),\n",
    "    np.repeat('mdIV L3\\ncorrected', len(l1_l3_mdIV_df[l1_l3_mdIV_df.Instar == 'L3'])),\n",
    "    np.repeat('LN L3', len(df_LNs[df_LNs.Instar == 'L3']))\n",
    "])\n",
    "\n",
    "sns.boxplot(x=categories, y=y, palette=[plot_settings.axon_color, plot_settings.axon_color, plot_settings.dendrite_color], ax=ax1)\n",
    "sns.swarmplot(x=categories, y=y, color='k', ax=ax1)\n",
    "\n",
    "# rotate the x-axis labels\n",
    "plt.ylabel('Synapse density')\n",
    "plt.xticks(rotation=45)\n",
    "\n",
    "# Add significance stars\n",
    "# Set the positions for significance stars\n",
    "x1, x2 = 0, 2   # Positions of the groups (x-axis)\n",
    "y, h, col = y.max() + 0.1, 0.01, 'k'  # y position, height, and color\n",
    "# Add lines and significance stars\n",
    "ax1.plot([x1, x2], [y, y], lw=1.5, color=col)         # Horizontal line between the groups\n",
    "ax1.text((x1 + x2) * 0.5, y + h, helper.get_significance_star(p_value_data), ha='center', va='bottom', color=col, fontsize=14)\n",
    "\n",
    "# Set the positions for significance stars\n",
    "x1, x2 = 1, 2   # Positions of the groups (x-axis)\n",
    "y, h, col = y.max() + 0.1, 0.01, 'k'  # y position, height, and color\n",
    "# Add lines and significance stars\n",
    "ax1.plot([x1, x2], [y, y], lw=1.5, color=col)         # Horizontal line between the groups\n",
    "ax1.text((x1 + x2) * 0.5, y + h, helper.get_significance_star(p_value_corrected), ha='center', va='bottom', color=col, fontsize=14)\n",
    "\n",
    "\n",
    "# plt.savefig(path_plots + 'Fig6/Fig6S4B.png')\n",
    "# plt.savefig(path_plots + 'Fig6/Fig6S4B.svg')"
   ]
  }
 ],
 "metadata": {
  "kernelspec": {
   "display_name": "catmaid_env",
   "language": "python",
   "name": "python3"
  },
  "language_info": {
   "codemirror_mode": {
    "name": "ipython",
    "version": 3
   },
   "file_extension": ".py",
   "mimetype": "text/x-python",
   "name": "python",
   "nbconvert_exporter": "python",
   "pygments_lexer": "ipython3",
   "version": "3.10.18"
  }
 },
 "nbformat": 4,
 "nbformat_minor": 2
}
